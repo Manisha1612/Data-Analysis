{
 "cells": [
  {
   "cell_type": "markdown",
   "metadata": {},
   "source": [
    "# Uber Taxi Supply Demand Gap\n",
    "Data : Uber Request Data                      Source : kaggle.com\n",
    "\n",
    "case study for data :1. City - Airport\n",
    "                     2. Airport - city\n",
    "Problem Statement :\n",
    "\n",
    "\n",
    "    Find the gap between supply and demand and visualize it.\n",
    "    Find the time slot when the highest Taxi demand is.\n",
    "    check the gap is in Case 1 or Case 2 with its time slot.\n",
    "    "
   ]
  },
  {
   "cell_type": "code",
   "execution_count": 1,
   "metadata": {},
   "outputs": [],
   "source": [
    "import pandas as pd\n",
    "import numpy as np\n",
    "%matplotlib inline\n",
    "import matplotlib.pyplot as plt\n",
    "import seaborn as sns"
   ]
  },
  {
   "cell_type": "code",
   "execution_count": 2,
   "metadata": {},
   "outputs": [],
   "source": [
    "df=pd.read_csv(\"Uber Request Data.csv\")\n",
    "\n",
    "# creating a copy of data - df- will hold raw data df1 - will hold clean and transformed data\n",
    "df1=df.copy()"
   ]
  },
  {
   "cell_type": "code",
   "execution_count": 70,
   "metadata": {},
   "outputs": [
    {
     "data": {
      "text/plain": [
       "(6745, 6)"
      ]
     },
     "execution_count": 70,
     "metadata": {},
     "output_type": "execute_result"
    }
   ],
   "source": [
    "df2=pd.read_csv(\"Uber Request Data.csv\")\n",
    "df2.shape"
   ]
  },
  {
   "cell_type": "code",
   "execution_count": 82,
   "metadata": {},
   "outputs": [
    {
     "name": "stdout",
     "output_type": "stream",
     "text": [
      "Total unique drivers are: 300\n"
     ]
    }
   ],
   "source": [
    "print(\"Total unique drivers are:\", len(df2['Driver id'].value_counts())\n",
    ")"
   ]
  },
  {
   "cell_type": "code",
   "execution_count": 78,
   "metadata": {},
   "outputs": [
    {
     "data": {
      "text/html": [
       "<div>\n",
       "<style scoped>\n",
       "    .dataframe tbody tr th:only-of-type {\n",
       "        vertical-align: middle;\n",
       "    }\n",
       "\n",
       "    .dataframe tbody tr th {\n",
       "        vertical-align: top;\n",
       "    }\n",
       "\n",
       "    .dataframe thead th {\n",
       "        text-align: right;\n",
       "    }\n",
       "</style>\n",
       "<table border=\"1\" class=\"dataframe\">\n",
       "  <thead>\n",
       "    <tr style=\"text-align: right;\">\n",
       "      <th></th>\n",
       "      <th>Pickup_Point</th>\n",
       "      <th>Status</th>\n",
       "      <th>Request_Timestamp</th>\n",
       "      <th>Drop_Timestamp</th>\n",
       "      <th>Date</th>\n",
       "      <th>WeekDay</th>\n",
       "      <th>Time_Session</th>\n",
       "    </tr>\n",
       "  </thead>\n",
       "  <tbody>\n",
       "    <tr>\n",
       "      <th>0</th>\n",
       "      <td>Airport</td>\n",
       "      <td>Trip Completed</td>\n",
       "      <td>2016-11-07 11:51:00</td>\n",
       "      <td>2016-11-07 13:00:00</td>\n",
       "      <td>2016-11-07</td>\n",
       "      <td>Monday</td>\n",
       "      <td>Rush_Morning</td>\n",
       "    </tr>\n",
       "    <tr>\n",
       "      <th>1</th>\n",
       "      <td>Airport</td>\n",
       "      <td>Trip Completed</td>\n",
       "      <td>2016-11-07 17:57:00</td>\n",
       "      <td>2016-11-07 18:47:00</td>\n",
       "      <td>2016-11-07</td>\n",
       "      <td>Monday</td>\n",
       "      <td>Mid_Afternoon</td>\n",
       "    </tr>\n",
       "    <tr>\n",
       "      <th>2</th>\n",
       "      <td>City</td>\n",
       "      <td>Trip Completed</td>\n",
       "      <td>2016-12-07 09:17:00</td>\n",
       "      <td>2016-12-07 09:58:00</td>\n",
       "      <td>2016-12-07</td>\n",
       "      <td>Wednesday</td>\n",
       "      <td>Morning</td>\n",
       "    </tr>\n",
       "    <tr>\n",
       "      <th>3</th>\n",
       "      <td>Airport</td>\n",
       "      <td>Trip Completed</td>\n",
       "      <td>2016-12-07 21:08:00</td>\n",
       "      <td>2016-12-07 22:03:00</td>\n",
       "      <td>2016-12-07</td>\n",
       "      <td>Wednesday</td>\n",
       "      <td>Evening</td>\n",
       "    </tr>\n",
       "    <tr>\n",
       "      <th>4</th>\n",
       "      <td>City</td>\n",
       "      <td>Trip Completed</td>\n",
       "      <td>2016-07-13 08:33:16</td>\n",
       "      <td>2016-07-13 09:25:47</td>\n",
       "      <td>2016-07-13</td>\n",
       "      <td>Wednesday</td>\n",
       "      <td>Morning</td>\n",
       "    </tr>\n",
       "  </tbody>\n",
       "</table>\n",
       "</div>"
      ],
      "text/plain": [
       "  Pickup_Point          Status   Request_Timestamp      Drop_Timestamp  \\\n",
       "0      Airport  Trip Completed 2016-11-07 11:51:00 2016-11-07 13:00:00   \n",
       "1      Airport  Trip Completed 2016-11-07 17:57:00 2016-11-07 18:47:00   \n",
       "2         City  Trip Completed 2016-12-07 09:17:00 2016-12-07 09:58:00   \n",
       "3      Airport  Trip Completed 2016-12-07 21:08:00 2016-12-07 22:03:00   \n",
       "4         City  Trip Completed 2016-07-13 08:33:16 2016-07-13 09:25:47   \n",
       "\n",
       "        Date    WeekDay   Time_Session  \n",
       "0 2016-11-07     Monday   Rush_Morning  \n",
       "1 2016-11-07     Monday  Mid_Afternoon  \n",
       "2 2016-12-07  Wednesday        Morning  \n",
       "3 2016-12-07  Wednesday        Evening  \n",
       "4 2016-07-13  Wednesday        Morning  "
      ]
     },
     "execution_count": 78,
     "metadata": {},
     "output_type": "execute_result"
    }
   ],
   "source": [
    "df1.head()"
   ]
  },
  {
   "cell_type": "code",
   "execution_count": 4,
   "metadata": {},
   "outputs": [
    {
     "data": {
      "text/plain": [
       "(6745, 6)"
      ]
     },
     "execution_count": 4,
     "metadata": {},
     "output_type": "execute_result"
    }
   ],
   "source": [
    "# To check size of the data -- in rows and columns\n",
    "df1.shape"
   ]
  },
  {
   "cell_type": "code",
   "execution_count": 5,
   "metadata": {},
   "outputs": [
    {
     "name": "stdout",
     "output_type": "stream",
     "text": [
      "<class 'pandas.core.frame.DataFrame'>\n",
      "RangeIndex: 6745 entries, 0 to 6744\n",
      "Data columns (total 6 columns):\n",
      "Request id           6745 non-null int64\n",
      "Pickup point         6745 non-null object\n",
      "Driver id            4095 non-null float64\n",
      "Status               6745 non-null object\n",
      "Request timestamp    6745 non-null object\n",
      "Drop timestamp       2831 non-null object\n",
      "dtypes: float64(1), int64(1), object(4)\n",
      "memory usage: 316.2+ KB\n"
     ]
    }
   ],
   "source": [
    "# to get information about the dataset\n",
    "df1.info()"
   ]
  },
  {
   "cell_type": "code",
   "execution_count": 6,
   "metadata": {},
   "outputs": [
    {
     "data": {
      "text/plain": [
       "Index(['Request id', 'Pickup point', 'Driver id', 'Status',\n",
       "       'Request timestamp', 'Drop timestamp'],\n",
       "      dtype='object')"
      ]
     },
     "execution_count": 6,
     "metadata": {},
     "output_type": "execute_result"
    }
   ],
   "source": [
    "# To get the name of columns\n",
    "df1.columns"
   ]
  },
  {
   "cell_type": "code",
   "execution_count": 7,
   "metadata": {},
   "outputs": [
    {
     "data": {
      "text/plain": [
       "Request id             int64\n",
       "Pickup point          object\n",
       "Driver id            float64\n",
       "Status                object\n",
       "Request timestamp     object\n",
       "Drop timestamp        object\n",
       "dtype: object"
      ]
     },
     "execution_count": 7,
     "metadata": {},
     "output_type": "execute_result"
    }
   ],
   "source": [
    "# To check the data type of the columns\n",
    "df1.dtypes"
   ]
  },
  {
   "cell_type": "code",
   "execution_count": 8,
   "metadata": {},
   "outputs": [
    {
     "data": {
      "text/plain": [
       "Request id              0\n",
       "Pickup point            0\n",
       "Driver id            2650\n",
       "Status                  0\n",
       "Request timestamp       0\n",
       "Drop timestamp       3914\n",
       "dtype: int64"
      ]
     },
     "execution_count": 8,
     "metadata": {},
     "output_type": "execute_result"
    }
   ],
   "source": [
    "# To check null values in the data\n",
    "df1.isnull().sum()"
   ]
  },
  {
   "cell_type": "code",
   "execution_count": 9,
   "metadata": {},
   "outputs": [
    {
     "name": "stdout",
     "output_type": "stream",
     "text": [
      "Missing values columns are :  Index(['Driver id', 'Drop timestamp'], dtype='object')\n",
      "Column Name   Missing value\n"
     ]
    },
    {
     "data": {
      "text/plain": [
       "Driver id         2650\n",
       "Drop timestamp    3914\n",
       "dtype: int64"
      ]
     },
     "execution_count": 9,
     "metadata": {},
     "output_type": "execute_result"
    }
   ],
   "source": [
    "# To get only name of the columns having null/Missing values with its count\n",
    "\n",
    "null_columns=df1.columns[df.isnull().any()]\n",
    "print(\"Missing values columns are : \", null_columns)\n",
    "\n",
    "# To get the count of null/Missing values\n",
    "print(\"Column Name   Missing value\")\n",
    "df1[null_columns].isnull().sum()\n",
    "\n",
    "\n",
    "\n",
    "# How to retrieve rows for column having null values\n",
    "#df[df['Drop timestamp'].isnull()][null_columns]"
   ]
  },
  {
   "cell_type": "code",
   "execution_count": 10,
   "metadata": {},
   "outputs": [],
   "source": [
    "# Data Cleaning\n",
    "# Changing name of the columns\n",
    "df1.columns=['Request_Id', 'Pickup_Point', 'Driver_Id', 'Status', 'Request_Timestamp', 'Drop_Timestamp']"
   ]
  },
  {
   "cell_type": "code",
   "execution_count": 11,
   "metadata": {},
   "outputs": [
    {
     "data": {
      "text/plain": [
       "Index(['Request_Id', 'Pickup_Point', 'Driver_Id', 'Status',\n",
       "       'Request_Timestamp', 'Drop_Timestamp'],\n",
       "      dtype='object')"
      ]
     },
     "execution_count": 11,
     "metadata": {},
     "output_type": "execute_result"
    }
   ],
   "source": [
    "# The changed column names are\n",
    "df1.columns"
   ]
  },
  {
   "cell_type": "code",
   "execution_count": 12,
   "metadata": {},
   "outputs": [],
   "source": [
    "# data quality issue : Converting (Request timestamp, Drop timestamp) from object -> datetime format\n",
    "#import datetime\n",
    "df1['Request_Timestamp']=pd.to_datetime(df1['Request_Timestamp'])\n",
    "df1['Drop_Timestamp']=pd.to_datetime(df1['Drop_Timestamp'])"
   ]
  },
  {
   "cell_type": "code",
   "execution_count": 13,
   "metadata": {},
   "outputs": [],
   "source": [
    "# Drop the unnecessary column\n",
    "df1.drop(['Request_Id'], axis=1, inplace=True)\n",
    "df1.drop(['Driver_Id'], axis=1, inplace=True)\n"
   ]
  },
  {
   "cell_type": "code",
   "execution_count": 14,
   "metadata": {},
   "outputs": [
    {
     "data": {
      "text/html": [
       "<div>\n",
       "<style scoped>\n",
       "    .dataframe tbody tr th:only-of-type {\n",
       "        vertical-align: middle;\n",
       "    }\n",
       "\n",
       "    .dataframe tbody tr th {\n",
       "        vertical-align: top;\n",
       "    }\n",
       "\n",
       "    .dataframe thead th {\n",
       "        text-align: right;\n",
       "    }\n",
       "</style>\n",
       "<table border=\"1\" class=\"dataframe\">\n",
       "  <thead>\n",
       "    <tr style=\"text-align: right;\">\n",
       "      <th></th>\n",
       "      <th>Pickup_Point</th>\n",
       "      <th>Status</th>\n",
       "      <th>Request_Timestamp</th>\n",
       "      <th>Drop_Timestamp</th>\n",
       "    </tr>\n",
       "  </thead>\n",
       "  <tbody>\n",
       "    <tr>\n",
       "      <th>0</th>\n",
       "      <td>Airport</td>\n",
       "      <td>Trip Completed</td>\n",
       "      <td>2016-11-07 11:51:00</td>\n",
       "      <td>2016-11-07 13:00:00</td>\n",
       "    </tr>\n",
       "    <tr>\n",
       "      <th>1</th>\n",
       "      <td>Airport</td>\n",
       "      <td>Trip Completed</td>\n",
       "      <td>2016-11-07 17:57:00</td>\n",
       "      <td>2016-11-07 18:47:00</td>\n",
       "    </tr>\n",
       "    <tr>\n",
       "      <th>2</th>\n",
       "      <td>City</td>\n",
       "      <td>Trip Completed</td>\n",
       "      <td>2016-12-07 09:17:00</td>\n",
       "      <td>2016-12-07 09:58:00</td>\n",
       "    </tr>\n",
       "    <tr>\n",
       "      <th>3</th>\n",
       "      <td>Airport</td>\n",
       "      <td>Trip Completed</td>\n",
       "      <td>2016-12-07 21:08:00</td>\n",
       "      <td>2016-12-07 22:03:00</td>\n",
       "    </tr>\n",
       "    <tr>\n",
       "      <th>4</th>\n",
       "      <td>City</td>\n",
       "      <td>Trip Completed</td>\n",
       "      <td>2016-07-13 08:33:16</td>\n",
       "      <td>2016-07-13 09:25:47</td>\n",
       "    </tr>\n",
       "  </tbody>\n",
       "</table>\n",
       "</div>"
      ],
      "text/plain": [
       "  Pickup_Point          Status   Request_Timestamp      Drop_Timestamp\n",
       "0      Airport  Trip Completed 2016-11-07 11:51:00 2016-11-07 13:00:00\n",
       "1      Airport  Trip Completed 2016-11-07 17:57:00 2016-11-07 18:47:00\n",
       "2         City  Trip Completed 2016-12-07 09:17:00 2016-12-07 09:58:00\n",
       "3      Airport  Trip Completed 2016-12-07 21:08:00 2016-12-07 22:03:00\n",
       "4         City  Trip Completed 2016-07-13 08:33:16 2016-07-13 09:25:47"
      ]
     },
     "execution_count": 14,
     "metadata": {},
     "output_type": "execute_result"
    }
   ],
   "source": [
    "df1.head()"
   ]
  },
  {
   "cell_type": "code",
   "execution_count": 15,
   "metadata": {},
   "outputs": [
    {
     "name": "stdout",
     "output_type": "stream",
     "text": [
      "Pickup point unique value count:  2\n",
      "Pickup point unique value are:  ['Airport' 'City']\n"
     ]
    }
   ],
   "source": [
    "# Get the unique value for each column\n",
    "print(\"Pickup point unique value count: \", len(df1['Pickup_Point'].unique()))\n",
    "print(\"Pickup point unique value are: \", df1['Pickup_Point'].unique())"
   ]
  },
  {
   "cell_type": "code",
   "execution_count": 16,
   "metadata": {},
   "outputs": [
    {
     "name": "stdout",
     "output_type": "stream",
     "text": [
      "Pickup Point Count\n"
     ]
    },
    {
     "data": {
      "text/plain": [
       "City       3507\n",
       "Airport    3238\n",
       "Name: Pickup_Point, dtype: int64"
      ]
     },
     "execution_count": 16,
     "metadata": {},
     "output_type": "execute_result"
    }
   ],
   "source": [
    "# Get the total value count for the Pickup Point\n",
    "print(\"Pickup Point Count\")\n",
    "df1['Pickup_Point'].value_counts()"
   ]
  },
  {
   "cell_type": "code",
   "execution_count": 17,
   "metadata": {},
   "outputs": [
    {
     "data": {
      "text/plain": [
       "<matplotlib.axes._subplots.AxesSubplot at 0x1c45256af98>"
      ]
     },
     "execution_count": 17,
     "metadata": {},
     "output_type": "execute_result"
    },
    {
     "data": {
      "image/png": "[encoded data removed]",
      "text/plain": [
       "<Figure size 432x288 with 1 Axes>"
      ]
     },
     "metadata": {},
     "output_type": "display_data"
    }
   ],
   "source": [
    "# Visualize the Pickup Point data\n",
    "PPoint=df1['Pickup_Point'].value_counts()\n",
    "PPoint.plot.bar(color='r')\n",
    "# Or using another method\n",
    "#PPoint=pd.crosstab(index=df1['Pickup_Point'], columns='count')\n",
    "#PPoint.plot.bar()"
   ]
  },
  {
   "cell_type": "code",
   "execution_count": 18,
   "metadata": {},
   "outputs": [
    {
     "name": "stdout",
     "output_type": "stream",
     "text": [
      "Trip Status unique value count:  3\n",
      "Trip Status unique value are :  ['Trip Completed' 'Cancelled' 'No Cars Available']\n"
     ]
    }
   ],
   "source": [
    "print(\"Trip Status unique value count: \", len(df1['Status'].unique()))\n",
    "print(\"Trip Status unique value are : \", df1['Status'].unique())\n"
   ]
  },
  {
   "cell_type": "code",
   "execution_count": 19,
   "metadata": {},
   "outputs": [
    {
     "name": "stdout",
     "output_type": "stream",
     "text": [
      "Trip Status          Count\n"
     ]
    },
    {
     "data": {
      "text/plain": [
       "Trip Completed       2831\n",
       "No Cars Available    2650\n",
       "Cancelled            1264\n",
       "Name: Status, dtype: int64"
      ]
     },
     "execution_count": 19,
     "metadata": {},
     "output_type": "execute_result"
    }
   ],
   "source": [
    "# Get the total value count for the Trip Status\n",
    "print(\"Trip Status          Count\")\n",
    "df1['Status'].value_counts()"
   ]
  },
  {
   "cell_type": "markdown",
   "metadata": {},
   "source": [
    "NOTE : The Driver_Id missing value count and No Cars Available value count is same , so there was no missing value in Driver_Id. \n",
    "\n",
    "There was no trip took place so Driver_Id is unavailable.\n",
    "\n",
    "When Trip will not took place, there will no Drop_Timestamp.\n",
    "Drop_Timestamp count is equal to (No Cars Available + Cancelled) [3914 = (2650 + 1264)."
   ]
  },
  {
   "cell_type": "code",
   "execution_count": 20,
   "metadata": {},
   "outputs": [
    {
     "data": {
      "text/plain": [
       "<matplotlib.axes._subplots.AxesSubplot at 0x1c4529547b8>"
      ]
     },
     "execution_count": 20,
     "metadata": {},
     "output_type": "execute_result"
    },
    {
     "data": {
      "image/png": "[encoded data removed]",
      "text/plain": [
       "<Figure size 432x288 with 1 Axes>"
      ]
     },
     "metadata": {},
     "output_type": "display_data"
    }
   ],
   "source": [
    "# Visualize the trip Status Data \n",
    "#Trip_Status=pd.crosstab(index=df1['Status'], columns='count')\n",
    "#Trip_Status.plot.bar()\n",
    "\n",
    "# Visualize the Trip Status data\n",
    "TripStatus=df1['Status'].value_counts()\n",
    "TripStatus.plot.bar(color='r')\n"
   ]
  },
  {
   "cell_type": "code",
   "execution_count": 21,
   "metadata": {},
   "outputs": [
    {
     "data": {
      "text/html": [
       "<div>\n",
       "<style scoped>\n",
       "    .dataframe tbody tr th:only-of-type {\n",
       "        vertical-align: middle;\n",
       "    }\n",
       "\n",
       "    .dataframe tbody tr th {\n",
       "        vertical-align: top;\n",
       "    }\n",
       "\n",
       "    .dataframe thead th {\n",
       "        text-align: right;\n",
       "    }\n",
       "</style>\n",
       "<table border=\"1\" class=\"dataframe\">\n",
       "  <thead>\n",
       "    <tr style=\"text-align: right;\">\n",
       "      <th></th>\n",
       "      <th>Pickup_Point</th>\n",
       "      <th>Status</th>\n",
       "      <th>Request_Timestamp</th>\n",
       "      <th>Drop_Timestamp</th>\n",
       "    </tr>\n",
       "  </thead>\n",
       "  <tbody>\n",
       "    <tr>\n",
       "      <th>0</th>\n",
       "      <td>Airport</td>\n",
       "      <td>Trip Completed</td>\n",
       "      <td>2016-11-07 11:51:00</td>\n",
       "      <td>2016-11-07 13:00:00</td>\n",
       "    </tr>\n",
       "  </tbody>\n",
       "</table>\n",
       "</div>"
      ],
      "text/plain": [
       "  Pickup_Point          Status   Request_Timestamp      Drop_Timestamp\n",
       "0      Airport  Trip Completed 2016-11-07 11:51:00 2016-11-07 13:00:00"
      ]
     },
     "execution_count": 21,
     "metadata": {},
     "output_type": "execute_result"
    }
   ],
   "source": [
    "df1.head(1)"
   ]
  },
  {
   "cell_type": "code",
   "execution_count": 22,
   "metadata": {},
   "outputs": [],
   "source": [
    "# Created a new column Date to the dataset from Request_Timestamp\n",
    "df1['Date']=pd.DatetimeIndex(df1['Request_Timestamp']).date\n",
    "df1.Date=pd.to_datetime(df1.Date)\n",
    "\n"
   ]
  },
  {
   "cell_type": "code",
   "execution_count": 23,
   "metadata": {},
   "outputs": [],
   "source": [
    "df1['WeekDay']=df1.Date.dt.weekday_name"
   ]
  },
  {
   "cell_type": "code",
   "execution_count": 24,
   "metadata": {},
   "outputs": [
    {
     "data": {
      "text/html": [
       "<div>\n",
       "<style scoped>\n",
       "    .dataframe tbody tr th:only-of-type {\n",
       "        vertical-align: middle;\n",
       "    }\n",
       "\n",
       "    .dataframe tbody tr th {\n",
       "        vertical-align: top;\n",
       "    }\n",
       "\n",
       "    .dataframe thead th {\n",
       "        text-align: right;\n",
       "    }\n",
       "</style>\n",
       "<table border=\"1\" class=\"dataframe\">\n",
       "  <thead>\n",
       "    <tr style=\"text-align: right;\">\n",
       "      <th></th>\n",
       "      <th>Pickup_Point</th>\n",
       "      <th>Status</th>\n",
       "      <th>Request_Timestamp</th>\n",
       "      <th>Drop_Timestamp</th>\n",
       "      <th>Date</th>\n",
       "      <th>WeekDay</th>\n",
       "    </tr>\n",
       "  </thead>\n",
       "  <tbody>\n",
       "    <tr>\n",
       "      <th>0</th>\n",
       "      <td>Airport</td>\n",
       "      <td>Trip Completed</td>\n",
       "      <td>2016-11-07 11:51:00</td>\n",
       "      <td>2016-11-07 13:00:00</td>\n",
       "      <td>2016-11-07</td>\n",
       "      <td>Monday</td>\n",
       "    </tr>\n",
       "    <tr>\n",
       "      <th>1</th>\n",
       "      <td>Airport</td>\n",
       "      <td>Trip Completed</td>\n",
       "      <td>2016-11-07 17:57:00</td>\n",
       "      <td>2016-11-07 18:47:00</td>\n",
       "      <td>2016-11-07</td>\n",
       "      <td>Monday</td>\n",
       "    </tr>\n",
       "    <tr>\n",
       "      <th>2</th>\n",
       "      <td>City</td>\n",
       "      <td>Trip Completed</td>\n",
       "      <td>2016-12-07 09:17:00</td>\n",
       "      <td>2016-12-07 09:58:00</td>\n",
       "      <td>2016-12-07</td>\n",
       "      <td>Wednesday</td>\n",
       "    </tr>\n",
       "    <tr>\n",
       "      <th>3</th>\n",
       "      <td>Airport</td>\n",
       "      <td>Trip Completed</td>\n",
       "      <td>2016-12-07 21:08:00</td>\n",
       "      <td>2016-12-07 22:03:00</td>\n",
       "      <td>2016-12-07</td>\n",
       "      <td>Wednesday</td>\n",
       "    </tr>\n",
       "    <tr>\n",
       "      <th>4</th>\n",
       "      <td>City</td>\n",
       "      <td>Trip Completed</td>\n",
       "      <td>2016-07-13 08:33:16</td>\n",
       "      <td>2016-07-13 09:25:47</td>\n",
       "      <td>2016-07-13</td>\n",
       "      <td>Wednesday</td>\n",
       "    </tr>\n",
       "  </tbody>\n",
       "</table>\n",
       "</div>"
      ],
      "text/plain": [
       "  Pickup_Point          Status   Request_Timestamp      Drop_Timestamp  \\\n",
       "0      Airport  Trip Completed 2016-11-07 11:51:00 2016-11-07 13:00:00   \n",
       "1      Airport  Trip Completed 2016-11-07 17:57:00 2016-11-07 18:47:00   \n",
       "2         City  Trip Completed 2016-12-07 09:17:00 2016-12-07 09:58:00   \n",
       "3      Airport  Trip Completed 2016-12-07 21:08:00 2016-12-07 22:03:00   \n",
       "4         City  Trip Completed 2016-07-13 08:33:16 2016-07-13 09:25:47   \n",
       "\n",
       "        Date    WeekDay  \n",
       "0 2016-11-07     Monday  \n",
       "1 2016-11-07     Monday  \n",
       "2 2016-12-07  Wednesday  \n",
       "3 2016-12-07  Wednesday  \n",
       "4 2016-07-13  Wednesday  "
      ]
     },
     "execution_count": 24,
     "metadata": {},
     "output_type": "execute_result"
    }
   ],
   "source": [
    "df1.head()"
   ]
  },
  {
   "cell_type": "markdown",
   "metadata": {},
   "source": [
    "##### To check the day time cars status\n",
    "Day Time is divided into 8 bins :\n",
    "    \n",
    "    Mid_Night      :  00AM - 3AM\n",
    "\n",
    "    Early_Morning  :   3AM - 6AM\n",
    "\n",
    "    Morning        :   6AM - 9AM\n",
    "\n",
    "    Rush_Morning   :   9AM - 12AM\n",
    "\n",
    "    Afternoon      :  12PM - 15PM\n",
    "\n",
    "    Mid_Afternoon  :  15PM - 18PM\n",
    "\n",
    "    Evening        :  18PM - 21PM\n",
    "\n",
    "    Night          :  21Pm - 00AM \n",
    "\n"
   ]
  },
  {
   "cell_type": "code",
   "execution_count": 25,
   "metadata": {},
   "outputs": [],
   "source": [
    "# dividing the rides in 8 section -Mid_Night, Early_Monrning, Morning , Rush_Morning , Afternoon, Mid_Afternoon, Evening , Night\n",
    "time_labels=['Mid_Night','Early_Morning','Morning','Rush_Morning','Afternoon','Mid_Afternoon', 'Evening', 'Night']\n",
    "df1=df1.assign(Time_Session=pd.cut(df1['Request_Timestamp'].dt.hour,[-1,3,6,9,12,15,18,21,24], labels=time_labels))"
   ]
  },
  {
   "cell_type": "code",
   "execution_count": 26,
   "metadata": {},
   "outputs": [
    {
     "data": {
      "text/html": [
       "<div>\n",
       "<style scoped>\n",
       "    .dataframe tbody tr th:only-of-type {\n",
       "        vertical-align: middle;\n",
       "    }\n",
       "\n",
       "    .dataframe tbody tr th {\n",
       "        vertical-align: top;\n",
       "    }\n",
       "\n",
       "    .dataframe thead th {\n",
       "        text-align: right;\n",
       "    }\n",
       "</style>\n",
       "<table border=\"1\" class=\"dataframe\">\n",
       "  <thead>\n",
       "    <tr style=\"text-align: right;\">\n",
       "      <th></th>\n",
       "      <th>Pickup_Point</th>\n",
       "      <th>Status</th>\n",
       "      <th>Request_Timestamp</th>\n",
       "      <th>Drop_Timestamp</th>\n",
       "      <th>Date</th>\n",
       "      <th>WeekDay</th>\n",
       "      <th>Time_Session</th>\n",
       "    </tr>\n",
       "  </thead>\n",
       "  <tbody>\n",
       "    <tr>\n",
       "      <th>0</th>\n",
       "      <td>Airport</td>\n",
       "      <td>Trip Completed</td>\n",
       "      <td>2016-11-07 11:51:00</td>\n",
       "      <td>2016-11-07 13:00:00</td>\n",
       "      <td>2016-11-07</td>\n",
       "      <td>Monday</td>\n",
       "      <td>Rush_Morning</td>\n",
       "    </tr>\n",
       "    <tr>\n",
       "      <th>1</th>\n",
       "      <td>Airport</td>\n",
       "      <td>Trip Completed</td>\n",
       "      <td>2016-11-07 17:57:00</td>\n",
       "      <td>2016-11-07 18:47:00</td>\n",
       "      <td>2016-11-07</td>\n",
       "      <td>Monday</td>\n",
       "      <td>Mid_Afternoon</td>\n",
       "    </tr>\n",
       "    <tr>\n",
       "      <th>2</th>\n",
       "      <td>City</td>\n",
       "      <td>Trip Completed</td>\n",
       "      <td>2016-12-07 09:17:00</td>\n",
       "      <td>2016-12-07 09:58:00</td>\n",
       "      <td>2016-12-07</td>\n",
       "      <td>Wednesday</td>\n",
       "      <td>Morning</td>\n",
       "    </tr>\n",
       "  </tbody>\n",
       "</table>\n",
       "</div>"
      ],
      "text/plain": [
       "  Pickup_Point          Status   Request_Timestamp      Drop_Timestamp  \\\n",
       "0      Airport  Trip Completed 2016-11-07 11:51:00 2016-11-07 13:00:00   \n",
       "1      Airport  Trip Completed 2016-11-07 17:57:00 2016-11-07 18:47:00   \n",
       "2         City  Trip Completed 2016-12-07 09:17:00 2016-12-07 09:58:00   \n",
       "\n",
       "        Date    WeekDay   Time_Session  \n",
       "0 2016-11-07     Monday   Rush_Morning  \n",
       "1 2016-11-07     Monday  Mid_Afternoon  \n",
       "2 2016-12-07  Wednesday        Morning  "
      ]
     },
     "execution_count": 26,
     "metadata": {},
     "output_type": "execute_result"
    }
   ],
   "source": [
    "df1.head(3)"
   ]
  },
  {
   "cell_type": "code",
   "execution_count": 27,
   "metadata": {},
   "outputs": [
    {
     "data": {
      "text/plain": [
       "Evening          1414\n",
       "Morning          1260\n",
       "Mid_Afternoon    1087\n",
       "Early_Morning    1046\n",
       "Rush_Morning      598\n",
       "Night             498\n",
       "Afternoon         467\n",
       "Mid_Night         375\n",
       "Name: Time_Session, dtype: int64"
      ]
     },
     "execution_count": 27,
     "metadata": {},
     "output_type": "execute_result"
    }
   ],
   "source": [
    "df1['Time_Session'].value_counts()"
   ]
  },
  {
   "cell_type": "code",
   "execution_count": 28,
   "metadata": {},
   "outputs": [
    {
     "data": {
      "text/plain": [
       "<matplotlib.axes._subplots.AxesSubplot at 0x1c452a2cc50>"
      ]
     },
     "execution_count": 28,
     "metadata": {},
     "output_type": "execute_result"
    },
    {
     "data": {
      "image/png": "[encoded data removed]",
      "text/plain": [
       "<Figure size 432x288 with 1 Axes>"
      ]
     },
     "metadata": {},
     "output_type": "display_data"
    }
   ],
   "source": [
    "# Visualize the trip Time_Session Data with its total count \n",
    "#TimeSession=pd.crosstab(index=df1['Time_Session'], columns='count')\n",
    "#print(TimeSession)\n",
    "#TimeSession.plot.bar()\n",
    "\n",
    "# Visualize the Pickup Point data\n",
    "Ts=df1['Time_Session'].value_counts()\n",
    "Ts.plot.bar(color='r')\n"
   ]
  },
  {
   "cell_type": "code",
   "execution_count": 29,
   "metadata": {},
   "outputs": [
    {
     "name": "stdout",
     "output_type": "stream",
     "text": [
      "       Date\n",
      "0   2016-11-07\n",
      "1   2016-11-07\n",
      "2   2016-12-07\n",
      "3   2016-12-07\n",
      "4   2016-07-13\n",
      "Name: Date, dtype: datetime64[ns]\n",
      "\n",
      " Unique days of the trips \n",
      "Date     Total_Trip_count\n",
      "2016-07-15    1381\n",
      "2016-11-07    1367\n",
      "2016-07-14    1353\n",
      "2016-07-13    1337\n",
      "2016-12-07    1307\n",
      "Name: Date, dtype: int64\n"
     ]
    }
   ],
   "source": [
    "print(\"       Date\")\n",
    "print(df1.Date.head())\n",
    "print(\"\\n Unique days of the trips \")\n",
    "print(\"Date     Total_Trip_count\")\n",
    "\n",
    "print(df1.Date.value_counts())\n",
    "#df1.Date.dt.weekday_name\n"
   ]
  },
  {
   "cell_type": "code",
   "execution_count": 30,
   "metadata": {},
   "outputs": [
    {
     "data": {
      "text/plain": [
       "Wednesday    2644\n",
       "Friday       1381\n",
       "Monday       1367\n",
       "Thursday     1353\n",
       "Name: WeekDay, dtype: int64"
      ]
     },
     "execution_count": 30,
     "metadata": {},
     "output_type": "execute_result"
    }
   ],
   "source": [
    "df1.WeekDay.value_counts()"
   ]
  },
  {
   "cell_type": "markdown",
   "metadata": {},
   "source": [
    "### Visualize the WeekDay Trip Status"
   ]
  },
  {
   "cell_type": "markdown",
   "metadata": {},
   "source": [
    "Observation : with compare to other week days\n",
    "1. Large amount of trip took place on Wednesday.\n",
    "2. On Wednesday:\n",
    "\n",
    "\"Cancellation\" is more ,\n",
    "\n",
    "\"No Cars Availabe\"  is almost twice than other days, \n",
    "\n",
    "\"Trip Completed\" is also almost twice than other days. \n",
    "\n",
    "So Looking to the data we can say Wednesday is the \"Most Heavy Day of the Week\"\n"
   ]
  },
  {
   "cell_type": "code",
   "execution_count": 31,
   "metadata": {},
   "outputs": [
    {
     "data": {
      "text/html": [
       "<div>\n",
       "<style scoped>\n",
       "    .dataframe tbody tr th:only-of-type {\n",
       "        vertical-align: middle;\n",
       "    }\n",
       "\n",
       "    .dataframe tbody tr th {\n",
       "        vertical-align: top;\n",
       "    }\n",
       "\n",
       "    .dataframe thead th {\n",
       "        text-align: right;\n",
       "    }\n",
       "</style>\n",
       "<table border=\"1\" class=\"dataframe\">\n",
       "  <thead>\n",
       "    <tr style=\"text-align: right;\">\n",
       "      <th></th>\n",
       "      <th>Pickup_Point</th>\n",
       "      <th>Status</th>\n",
       "      <th>Request_Timestamp</th>\n",
       "      <th>Drop_Timestamp</th>\n",
       "      <th>Date</th>\n",
       "      <th>WeekDay</th>\n",
       "      <th>Time_Session</th>\n",
       "    </tr>\n",
       "  </thead>\n",
       "  <tbody>\n",
       "    <tr>\n",
       "      <th>0</th>\n",
       "      <td>Airport</td>\n",
       "      <td>Trip Completed</td>\n",
       "      <td>2016-11-07 11:51:00</td>\n",
       "      <td>2016-11-07 13:00:00</td>\n",
       "      <td>2016-11-07</td>\n",
       "      <td>Monday</td>\n",
       "      <td>Rush_Morning</td>\n",
       "    </tr>\n",
       "    <tr>\n",
       "      <th>1</th>\n",
       "      <td>Airport</td>\n",
       "      <td>Trip Completed</td>\n",
       "      <td>2016-11-07 17:57:00</td>\n",
       "      <td>2016-11-07 18:47:00</td>\n",
       "      <td>2016-11-07</td>\n",
       "      <td>Monday</td>\n",
       "      <td>Mid_Afternoon</td>\n",
       "    </tr>\n",
       "    <tr>\n",
       "      <th>2</th>\n",
       "      <td>City</td>\n",
       "      <td>Trip Completed</td>\n",
       "      <td>2016-12-07 09:17:00</td>\n",
       "      <td>2016-12-07 09:58:00</td>\n",
       "      <td>2016-12-07</td>\n",
       "      <td>Wednesday</td>\n",
       "      <td>Morning</td>\n",
       "    </tr>\n",
       "    <tr>\n",
       "      <th>3</th>\n",
       "      <td>Airport</td>\n",
       "      <td>Trip Completed</td>\n",
       "      <td>2016-12-07 21:08:00</td>\n",
       "      <td>2016-12-07 22:03:00</td>\n",
       "      <td>2016-12-07</td>\n",
       "      <td>Wednesday</td>\n",
       "      <td>Evening</td>\n",
       "    </tr>\n",
       "    <tr>\n",
       "      <th>4</th>\n",
       "      <td>City</td>\n",
       "      <td>Trip Completed</td>\n",
       "      <td>2016-07-13 08:33:16</td>\n",
       "      <td>2016-07-13 09:25:47</td>\n",
       "      <td>2016-07-13</td>\n",
       "      <td>Wednesday</td>\n",
       "      <td>Morning</td>\n",
       "    </tr>\n",
       "  </tbody>\n",
       "</table>\n",
       "</div>"
      ],
      "text/plain": [
       "  Pickup_Point          Status   Request_Timestamp      Drop_Timestamp  \\\n",
       "0      Airport  Trip Completed 2016-11-07 11:51:00 2016-11-07 13:00:00   \n",
       "1      Airport  Trip Completed 2016-11-07 17:57:00 2016-11-07 18:47:00   \n",
       "2         City  Trip Completed 2016-12-07 09:17:00 2016-12-07 09:58:00   \n",
       "3      Airport  Trip Completed 2016-12-07 21:08:00 2016-12-07 22:03:00   \n",
       "4         City  Trip Completed 2016-07-13 08:33:16 2016-07-13 09:25:47   \n",
       "\n",
       "        Date    WeekDay   Time_Session  \n",
       "0 2016-11-07     Monday   Rush_Morning  \n",
       "1 2016-11-07     Monday  Mid_Afternoon  \n",
       "2 2016-12-07  Wednesday        Morning  \n",
       "3 2016-12-07  Wednesday        Evening  \n",
       "4 2016-07-13  Wednesday        Morning  "
      ]
     },
     "execution_count": 31,
     "metadata": {},
     "output_type": "execute_result"
    }
   ],
   "source": [
    "df1.head()"
   ]
  },
  {
   "cell_type": "markdown",
   "metadata": {},
   "source": [
    "### Analyse the data with Pickup Point"
   ]
  },
  {
   "cell_type": "code",
   "execution_count": 33,
   "metadata": {},
   "outputs": [
    {
     "data": {
      "text/html": [
       "<div>\n",
       "<style scoped>\n",
       "    .dataframe tbody tr th:only-of-type {\n",
       "        vertical-align: middle;\n",
       "    }\n",
       "\n",
       "    .dataframe tbody tr th {\n",
       "        vertical-align: top;\n",
       "    }\n",
       "\n",
       "    .dataframe thead th {\n",
       "        text-align: right;\n",
       "    }\n",
       "</style>\n",
       "<table border=\"1\" class=\"dataframe\">\n",
       "  <thead>\n",
       "    <tr style=\"text-align: right;\">\n",
       "      <th></th>\n",
       "      <th>Pickup_Point</th>\n",
       "      <th>Status</th>\n",
       "      <th>Request_Timestamp</th>\n",
       "      <th>Drop_Timestamp</th>\n",
       "      <th>Date</th>\n",
       "      <th>WeekDay</th>\n",
       "      <th>Time_Session</th>\n",
       "    </tr>\n",
       "  </thead>\n",
       "  <tbody>\n",
       "    <tr>\n",
       "      <th>0</th>\n",
       "      <td>Airport</td>\n",
       "      <td>Trip Completed</td>\n",
       "      <td>2016-11-07 11:51:00</td>\n",
       "      <td>2016-11-07 13:00:00</td>\n",
       "      <td>2016-11-07</td>\n",
       "      <td>Monday</td>\n",
       "      <td>Rush_Morning</td>\n",
       "    </tr>\n",
       "    <tr>\n",
       "      <th>1</th>\n",
       "      <td>Airport</td>\n",
       "      <td>Trip Completed</td>\n",
       "      <td>2016-11-07 17:57:00</td>\n",
       "      <td>2016-11-07 18:47:00</td>\n",
       "      <td>2016-11-07</td>\n",
       "      <td>Monday</td>\n",
       "      <td>Mid_Afternoon</td>\n",
       "    </tr>\n",
       "    <tr>\n",
       "      <th>2</th>\n",
       "      <td>City</td>\n",
       "      <td>Trip Completed</td>\n",
       "      <td>2016-12-07 09:17:00</td>\n",
       "      <td>2016-12-07 09:58:00</td>\n",
       "      <td>2016-12-07</td>\n",
       "      <td>Wednesday</td>\n",
       "      <td>Morning</td>\n",
       "    </tr>\n",
       "    <tr>\n",
       "      <th>3</th>\n",
       "      <td>Airport</td>\n",
       "      <td>Trip Completed</td>\n",
       "      <td>2016-12-07 21:08:00</td>\n",
       "      <td>2016-12-07 22:03:00</td>\n",
       "      <td>2016-12-07</td>\n",
       "      <td>Wednesday</td>\n",
       "      <td>Evening</td>\n",
       "    </tr>\n",
       "    <tr>\n",
       "      <th>4</th>\n",
       "      <td>City</td>\n",
       "      <td>Trip Completed</td>\n",
       "      <td>2016-07-13 08:33:16</td>\n",
       "      <td>2016-07-13 09:25:47</td>\n",
       "      <td>2016-07-13</td>\n",
       "      <td>Wednesday</td>\n",
       "      <td>Morning</td>\n",
       "    </tr>\n",
       "  </tbody>\n",
       "</table>\n",
       "</div>"
      ],
      "text/plain": [
       "  Pickup_Point          Status   Request_Timestamp      Drop_Timestamp  \\\n",
       "0      Airport  Trip Completed 2016-11-07 11:51:00 2016-11-07 13:00:00   \n",
       "1      Airport  Trip Completed 2016-11-07 17:57:00 2016-11-07 18:47:00   \n",
       "2         City  Trip Completed 2016-12-07 09:17:00 2016-12-07 09:58:00   \n",
       "3      Airport  Trip Completed 2016-12-07 21:08:00 2016-12-07 22:03:00   \n",
       "4         City  Trip Completed 2016-07-13 08:33:16 2016-07-13 09:25:47   \n",
       "\n",
       "        Date    WeekDay   Time_Session  \n",
       "0 2016-11-07     Monday   Rush_Morning  \n",
       "1 2016-11-07     Monday  Mid_Afternoon  \n",
       "2 2016-12-07  Wednesday        Morning  \n",
       "3 2016-12-07  Wednesday        Evening  \n",
       "4 2016-07-13  Wednesday        Morning  "
      ]
     },
     "execution_count": 33,
     "metadata": {},
     "output_type": "execute_result"
    }
   ],
   "source": [
    "df1.head()"
   ]
  },
  {
   "cell_type": "markdown",
   "metadata": {},
   "source": [
    "##### Pickup_Point and Status data"
   ]
  },
  {
   "cell_type": "code",
   "execution_count": 34,
   "metadata": {},
   "outputs": [
    {
     "data": {
      "text/plain": [
       "Pickup_Point  Status           \n",
       "Airport       Cancelled             198\n",
       "              No Cars Available    1713\n",
       "              Trip Completed       1327\n",
       "City          Cancelled            1066\n",
       "              No Cars Available     937\n",
       "              Trip Completed       1504\n",
       "dtype: int64"
      ]
     },
     "execution_count": 34,
     "metadata": {},
     "output_type": "execute_result"
    }
   ],
   "source": [
    "# Pickupoint and Status data \n",
    "df1.groupby(['Pickup_Point','Status']).size()"
   ]
  },
  {
   "cell_type": "code",
   "execution_count": 35,
   "metadata": {},
   "outputs": [
    {
     "data": {
      "text/plain": [
       "Status             Pickup_Point\n",
       "Cancelled          Airport          198\n",
       "                   City            1066\n",
       "No Cars Available  Airport         1713\n",
       "                   City             937\n",
       "Trip Completed     Airport         1327\n",
       "                   City            1504\n",
       "dtype: int64"
      ]
     },
     "execution_count": 35,
     "metadata": {},
     "output_type": "execute_result"
    }
   ],
   "source": [
    "# Pivot the above data\n",
    "#  Status and Pickupoint data \n",
    "df1.groupby(['Status', 'Pickup_Point']).size()"
   ]
  },
  {
   "cell_type": "code",
   "execution_count": 36,
   "metadata": {},
   "outputs": [
    {
     "data": {
      "text/html": [
       "<div>\n",
       "<style scoped>\n",
       "    .dataframe tbody tr th:only-of-type {\n",
       "        vertical-align: middle;\n",
       "    }\n",
       "\n",
       "    .dataframe tbody tr th {\n",
       "        vertical-align: top;\n",
       "    }\n",
       "\n",
       "    .dataframe thead th {\n",
       "        text-align: right;\n",
       "    }\n",
       "</style>\n",
       "<table border=\"1\" class=\"dataframe\">\n",
       "  <thead>\n",
       "    <tr style=\"text-align: right;\">\n",
       "      <th>Pickup_Point</th>\n",
       "      <th>Airport</th>\n",
       "      <th>City</th>\n",
       "      <th>All</th>\n",
       "    </tr>\n",
       "    <tr>\n",
       "      <th>Status</th>\n",
       "      <th></th>\n",
       "      <th></th>\n",
       "      <th></th>\n",
       "    </tr>\n",
       "  </thead>\n",
       "  <tbody>\n",
       "    <tr>\n",
       "      <th>Cancelled</th>\n",
       "      <td>198</td>\n",
       "      <td>1066</td>\n",
       "      <td>1264</td>\n",
       "    </tr>\n",
       "    <tr>\n",
       "      <th>No Cars Available</th>\n",
       "      <td>1713</td>\n",
       "      <td>937</td>\n",
       "      <td>2650</td>\n",
       "    </tr>\n",
       "    <tr>\n",
       "      <th>Trip Completed</th>\n",
       "      <td>1327</td>\n",
       "      <td>1504</td>\n",
       "      <td>2831</td>\n",
       "    </tr>\n",
       "    <tr>\n",
       "      <th>All</th>\n",
       "      <td>3238</td>\n",
       "      <td>3507</td>\n",
       "      <td>6745</td>\n",
       "    </tr>\n",
       "  </tbody>\n",
       "</table>\n",
       "</div>"
      ],
      "text/plain": [
       "Pickup_Point       Airport  City   All\n",
       "Status                                \n",
       "Cancelled              198  1066  1264\n",
       "No Cars Available     1713   937  2650\n",
       "Trip Completed        1327  1504  2831\n",
       "All                   3238  3507  6745"
      ]
     },
     "execution_count": 36,
     "metadata": {},
     "output_type": "execute_result"
    }
   ],
   "source": [
    "pd.crosstab(df1['Status'],df1['Pickup_Point'], margins=True)\n",
    "#pd.crosstab(df1['Pickup_Point'], df1['Status'], margins=True)"
   ]
  },
  {
   "cell_type": "code",
   "execution_count": 37,
   "metadata": {},
   "outputs": [
    {
     "data": {
      "image/png": "[encoded data removed]",
      "text/plain": [
       "<Figure size 720x720 with 1 Axes>"
      ]
     },
     "metadata": {},
     "output_type": "display_data"
    }
   ],
   "source": [
    "#plt.style.use('fivethirtyeight')\n",
    "plt.style.use('ggplot')\n",
    "colors=['r','g','b']\n",
    "width=0.25\n",
    "Status_graph=df1.groupby(['Pickup_Point', 'Status']).Status.count().unstack().plot.bar(legend=True,width=width, figsize=(10,10), color=colors)\n",
    "plt.xlabel=('Pickup Point')\n",
    "plt.ylabel(\"Count of Trip Status\")\n",
    "plt.title(\"Pickup Point Trip Status\")\n",
    "\n",
    "plt.show()"
   ]
  },
  {
   "cell_type": "markdown",
   "metadata": {},
   "source": [
    "Observation :\n",
    "\n",
    "1. Few Cars Available at Airport : Can have \"Uber Taxi Stand\" with more cars.\n",
    "2. Many Cancellation from City-to- Airport : \"due to heavy traffic time?\" \"Due to odd time zone?\"\n",
    "3. Check the 'cancellation'  and 'No car available' wrt to \"Time_Session\""
   ]
  },
  {
   "cell_type": "markdown",
   "metadata": {},
   "source": [
    "##### Pickup_Point and Weekday data visualization\n",
    "To check which weekday is having heavy rush"
   ]
  },
  {
   "cell_type": "code",
   "execution_count": 38,
   "metadata": {},
   "outputs": [
    {
     "data": {
      "text/plain": [
       "WeekDay    Pickup_Point\n",
       "Friday     Airport          629\n",
       "           City             752\n",
       "Monday     Airport          661\n",
       "           City             706\n",
       "Thursday   Airport          601\n",
       "           City             752\n",
       "Wednesday  Airport         1347\n",
       "           City            1297\n",
       "dtype: int64"
      ]
     },
     "execution_count": 38,
     "metadata": {},
     "output_type": "execute_result"
    }
   ],
   "source": [
    "# Pivot the data \n",
    "df1.groupby(['WeekDay','Pickup_Point']).size()"
   ]
  },
  {
   "cell_type": "code",
   "execution_count": 39,
   "metadata": {},
   "outputs": [
    {
     "data": {
      "text/html": [
       "<div>\n",
       "<style scoped>\n",
       "    .dataframe tbody tr th:only-of-type {\n",
       "        vertical-align: middle;\n",
       "    }\n",
       "\n",
       "    .dataframe tbody tr th {\n",
       "        vertical-align: top;\n",
       "    }\n",
       "\n",
       "    .dataframe thead th {\n",
       "        text-align: right;\n",
       "    }\n",
       "</style>\n",
       "<table border=\"1\" class=\"dataframe\">\n",
       "  <thead>\n",
       "    <tr style=\"text-align: right;\">\n",
       "      <th>WeekDay</th>\n",
       "      <th>Friday</th>\n",
       "      <th>Monday</th>\n",
       "      <th>Thursday</th>\n",
       "      <th>Wednesday</th>\n",
       "      <th>All</th>\n",
       "    </tr>\n",
       "    <tr>\n",
       "      <th>Pickup_Point</th>\n",
       "      <th></th>\n",
       "      <th></th>\n",
       "      <th></th>\n",
       "      <th></th>\n",
       "      <th></th>\n",
       "    </tr>\n",
       "  </thead>\n",
       "  <tbody>\n",
       "    <tr>\n",
       "      <th>Airport</th>\n",
       "      <td>629</td>\n",
       "      <td>661</td>\n",
       "      <td>601</td>\n",
       "      <td>1347</td>\n",
       "      <td>3238</td>\n",
       "    </tr>\n",
       "    <tr>\n",
       "      <th>City</th>\n",
       "      <td>752</td>\n",
       "      <td>706</td>\n",
       "      <td>752</td>\n",
       "      <td>1297</td>\n",
       "      <td>3507</td>\n",
       "    </tr>\n",
       "    <tr>\n",
       "      <th>All</th>\n",
       "      <td>1381</td>\n",
       "      <td>1367</td>\n",
       "      <td>1353</td>\n",
       "      <td>2644</td>\n",
       "      <td>6745</td>\n",
       "    </tr>\n",
       "  </tbody>\n",
       "</table>\n",
       "</div>"
      ],
      "text/plain": [
       "WeekDay       Friday  Monday  Thursday  Wednesday   All\n",
       "Pickup_Point                                           \n",
       "Airport          629     661       601       1347  3238\n",
       "City             752     706       752       1297  3507\n",
       "All             1381    1367      1353       2644  6745"
      ]
     },
     "execution_count": 39,
     "metadata": {},
     "output_type": "execute_result"
    }
   ],
   "source": [
    "\n",
    "pd.crosstab(df1['Pickup_Point'],df1['WeekDay'], margins=True)\n",
    "#pd.crosstab(df1['WeekDay'], df1['Pickup_Point'], margins=True)"
   ]
  },
  {
   "cell_type": "code",
   "execution_count": 40,
   "metadata": {},
   "outputs": [
    {
     "data": {
      "image/png": "[encoded data removed]",
      "text/plain": [
       "<Figure size 720x720 with 1 Axes>"
      ]
     },
     "metadata": {},
     "output_type": "display_data"
    }
   ],
   "source": [
    "#plt.style.use('fivethirtyeight')\n",
    "plt.style.use('ggplot')\n",
    "colors=['r','g','b','y','k','p','m']\n",
    "width=0.25\n",
    "Status_graph=df1.groupby(['Pickup_Point', 'WeekDay']).WeekDay.count().unstack().plot.bar(legend=True, width=width ,figsize=(10,10), color=colors)\n",
    "plt.xlabel=('Pickup Point')\n",
    "plt.ylabel(\"Count of Weekday Trip\")\n",
    "plt.title(\"Daywise Pickup Point Summary \")\n",
    "\n",
    "plt.show()"
   ]
  },
  {
   "cell_type": "code",
   "execution_count": 41,
   "metadata": {},
   "outputs": [
    {
     "data": {
      "image/png": "[encoded data removed]",
      "text/plain": [
       "<Figure size 720x720 with 1 Axes>"
      ]
     },
     "metadata": {},
     "output_type": "display_data"
    }
   ],
   "source": [
    "#plt.style.use('fivethirtyeight')\n",
    "plt.style.use('ggplot')\n",
    "colors=['r','g']\n",
    "width=0.25\n",
    "Status_graph=df1.groupby(['WeekDay', 'Pickup_Point']).Pickup_Point.count().unstack().plot.bar(legend=True, width=width ,figsize=(10,10), color=colors)\n",
    "plt.xlabel=('Weekday')\n",
    "plt.ylabel(\"Pickup point count\")\n",
    "plt.title(\"Daywise Pickup Point Summary \")\n",
    "\n",
    "plt.show()"
   ]
  },
  {
   "cell_type": "code",
   "execution_count": 42,
   "metadata": {},
   "outputs": [
    {
     "data": {
      "text/plain": [
       "Pickup_Point  Time_Session \n",
       "Airport       Mid_Night         181\n",
       "              Early_Morning     253\n",
       "              Morning           245\n",
       "              Rush_Morning      226\n",
       "              Afternoon         191\n",
       "              Mid_Afternoon     774\n",
       "              Evening          1087\n",
       "              Night             281\n",
       "City          Mid_Night         194\n",
       "              Early_Morning     793\n",
       "              Morning          1015\n",
       "              Rush_Morning      372\n",
       "              Afternoon         276\n",
       "              Mid_Afternoon     313\n",
       "              Evening           327\n",
       "              Night             217\n",
       "dtype: int64"
      ]
     },
     "execution_count": 42,
     "metadata": {},
     "output_type": "execute_result"
    }
   ],
   "source": [
    "df1.groupby(['Pickup_Point', 'Time_Session']).size()"
   ]
  },
  {
   "cell_type": "code",
   "execution_count": 43,
   "metadata": {},
   "outputs": [
    {
     "data": {
      "text/plain": [
       "Time_Session   Pickup_Point\n",
       "Mid_Night      Airport          181\n",
       "               City             194\n",
       "Early_Morning  Airport          253\n",
       "               City             793\n",
       "Morning        Airport          245\n",
       "               City            1015\n",
       "Rush_Morning   Airport          226\n",
       "               City             372\n",
       "Afternoon      Airport          191\n",
       "               City             276\n",
       "Mid_Afternoon  Airport          774\n",
       "               City             313\n",
       "Evening        Airport         1087\n",
       "               City             327\n",
       "Night          Airport          281\n",
       "               City             217\n",
       "dtype: int64"
      ]
     },
     "execution_count": 43,
     "metadata": {},
     "output_type": "execute_result"
    }
   ],
   "source": [
    "df1.groupby(['Time_Session','Pickup_Point']).size()"
   ]
  },
  {
   "cell_type": "code",
   "execution_count": 44,
   "metadata": {},
   "outputs": [
    {
     "data": {
      "text/html": [
       "<div>\n",
       "<style scoped>\n",
       "    .dataframe tbody tr th:only-of-type {\n",
       "        vertical-align: middle;\n",
       "    }\n",
       "\n",
       "    .dataframe tbody tr th {\n",
       "        vertical-align: top;\n",
       "    }\n",
       "\n",
       "    .dataframe thead th {\n",
       "        text-align: right;\n",
       "    }\n",
       "</style>\n",
       "<table border=\"1\" class=\"dataframe\">\n",
       "  <thead>\n",
       "    <tr style=\"text-align: right;\">\n",
       "      <th>Time_Session</th>\n",
       "      <th>Mid_Night</th>\n",
       "      <th>Early_Morning</th>\n",
       "      <th>Morning</th>\n",
       "      <th>Rush_Morning</th>\n",
       "      <th>Afternoon</th>\n",
       "      <th>Mid_Afternoon</th>\n",
       "      <th>Evening</th>\n",
       "      <th>Night</th>\n",
       "      <th>All</th>\n",
       "    </tr>\n",
       "    <tr>\n",
       "      <th>Pickup_Point</th>\n",
       "      <th></th>\n",
       "      <th></th>\n",
       "      <th></th>\n",
       "      <th></th>\n",
       "      <th></th>\n",
       "      <th></th>\n",
       "      <th></th>\n",
       "      <th></th>\n",
       "      <th></th>\n",
       "    </tr>\n",
       "  </thead>\n",
       "  <tbody>\n",
       "    <tr>\n",
       "      <th>Airport</th>\n",
       "      <td>281</td>\n",
       "      <td>191</td>\n",
       "      <td>245</td>\n",
       "      <td>181</td>\n",
       "      <td>774</td>\n",
       "      <td>253</td>\n",
       "      <td>226</td>\n",
       "      <td>1087</td>\n",
       "      <td>3238</td>\n",
       "    </tr>\n",
       "    <tr>\n",
       "      <th>City</th>\n",
       "      <td>217</td>\n",
       "      <td>276</td>\n",
       "      <td>1015</td>\n",
       "      <td>194</td>\n",
       "      <td>313</td>\n",
       "      <td>793</td>\n",
       "      <td>372</td>\n",
       "      <td>327</td>\n",
       "      <td>3507</td>\n",
       "    </tr>\n",
       "    <tr>\n",
       "      <th>All</th>\n",
       "      <td>498</td>\n",
       "      <td>467</td>\n",
       "      <td>1260</td>\n",
       "      <td>375</td>\n",
       "      <td>1087</td>\n",
       "      <td>1046</td>\n",
       "      <td>598</td>\n",
       "      <td>1414</td>\n",
       "      <td>6745</td>\n",
       "    </tr>\n",
       "  </tbody>\n",
       "</table>\n",
       "</div>"
      ],
      "text/plain": [
       "Time_Session  Mid_Night  Early_Morning  Morning  Rush_Morning  Afternoon  \\\n",
       "Pickup_Point                                                               \n",
       "Airport             281            191      245           181        774   \n",
       "City                217            276     1015           194        313   \n",
       "All                 498            467     1260           375       1087   \n",
       "\n",
       "Time_Session  Mid_Afternoon  Evening  Night   All  \n",
       "Pickup_Point                                       \n",
       "Airport                 253      226   1087  3238  \n",
       "City                    793      372    327  3507  \n",
       "All                    1046      598   1414  6745  "
      ]
     },
     "execution_count": 44,
     "metadata": {},
     "output_type": "execute_result"
    }
   ],
   "source": [
    "pd.crosstab(df1['Time_Session'], df1['Pickup_Point'], margins=True)\n",
    "pd.crosstab( df1['Pickup_Point'],df1['Time_Session'], margins=True)"
   ]
  },
  {
   "cell_type": "code",
   "execution_count": 45,
   "metadata": {},
   "outputs": [
    {
     "data": {
      "image/png": "[encoded data removed]",
      "text/plain": [
       "<Figure size 720x720 with 1 Axes>"
      ]
     },
     "metadata": {},
     "output_type": "display_data"
    }
   ],
   "source": [
    "#plt.style.use('fivethirtyeight')\n",
    "plt.style.use('ggplot')\n",
    "colors=['r','g','b','y','k','l','m','v']\n",
    "width=0.25\n",
    "Status_graph=df1.groupby(['Time_Session', 'Pickup_Point']).Pickup_Point.count().unstack().plot.bar(legend=True, width=width ,figsize=(10,10), color=colors)\n",
    "plt.xlabel=('Time Session')\n",
    "plt.ylabel(\"Count of Pickup Point\")\n",
    "plt.title(\"Daytime Pickup Point Summary \")\n",
    "\n",
    "plt.show()"
   ]
  },
  {
   "cell_type": "code",
   "execution_count": 46,
   "metadata": {},
   "outputs": [
    {
     "data": {
      "text/html": [
       "<div>\n",
       "<style scoped>\n",
       "    .dataframe tbody tr th:only-of-type {\n",
       "        vertical-align: middle;\n",
       "    }\n",
       "\n",
       "    .dataframe tbody tr th {\n",
       "        vertical-align: top;\n",
       "    }\n",
       "\n",
       "    .dataframe thead th {\n",
       "        text-align: right;\n",
       "    }\n",
       "</style>\n",
       "<table border=\"1\" class=\"dataframe\">\n",
       "  <thead>\n",
       "    <tr style=\"text-align: right;\">\n",
       "      <th></th>\n",
       "      <th>Pickup_Point</th>\n",
       "      <th>Status</th>\n",
       "      <th>Request_Timestamp</th>\n",
       "      <th>Drop_Timestamp</th>\n",
       "      <th>Date</th>\n",
       "      <th>WeekDay</th>\n",
       "      <th>Time_Session</th>\n",
       "    </tr>\n",
       "  </thead>\n",
       "  <tbody>\n",
       "    <tr>\n",
       "      <th>6740</th>\n",
       "      <td>City</td>\n",
       "      <td>No Cars Available</td>\n",
       "      <td>2016-07-15 23:49:03</td>\n",
       "      <td>NaT</td>\n",
       "      <td>2016-07-15</td>\n",
       "      <td>Friday</td>\n",
       "      <td>Night</td>\n",
       "    </tr>\n",
       "    <tr>\n",
       "      <th>6741</th>\n",
       "      <td>Airport</td>\n",
       "      <td>No Cars Available</td>\n",
       "      <td>2016-07-15 23:50:05</td>\n",
       "      <td>NaT</td>\n",
       "      <td>2016-07-15</td>\n",
       "      <td>Friday</td>\n",
       "      <td>Night</td>\n",
       "    </tr>\n",
       "    <tr>\n",
       "      <th>6742</th>\n",
       "      <td>City</td>\n",
       "      <td>No Cars Available</td>\n",
       "      <td>2016-07-15 23:52:06</td>\n",
       "      <td>NaT</td>\n",
       "      <td>2016-07-15</td>\n",
       "      <td>Friday</td>\n",
       "      <td>Night</td>\n",
       "    </tr>\n",
       "    <tr>\n",
       "      <th>6743</th>\n",
       "      <td>City</td>\n",
       "      <td>No Cars Available</td>\n",
       "      <td>2016-07-15 23:54:39</td>\n",
       "      <td>NaT</td>\n",
       "      <td>2016-07-15</td>\n",
       "      <td>Friday</td>\n",
       "      <td>Night</td>\n",
       "    </tr>\n",
       "    <tr>\n",
       "      <th>6744</th>\n",
       "      <td>Airport</td>\n",
       "      <td>No Cars Available</td>\n",
       "      <td>2016-07-15 23:55:03</td>\n",
       "      <td>NaT</td>\n",
       "      <td>2016-07-15</td>\n",
       "      <td>Friday</td>\n",
       "      <td>Night</td>\n",
       "    </tr>\n",
       "  </tbody>\n",
       "</table>\n",
       "</div>"
      ],
      "text/plain": [
       "     Pickup_Point             Status   Request_Timestamp Drop_Timestamp  \\\n",
       "6740         City  No Cars Available 2016-07-15 23:49:03            NaT   \n",
       "6741      Airport  No Cars Available 2016-07-15 23:50:05            NaT   \n",
       "6742         City  No Cars Available 2016-07-15 23:52:06            NaT   \n",
       "6743         City  No Cars Available 2016-07-15 23:54:39            NaT   \n",
       "6744      Airport  No Cars Available 2016-07-15 23:55:03            NaT   \n",
       "\n",
       "           Date WeekDay Time_Session  \n",
       "6740 2016-07-15  Friday        Night  \n",
       "6741 2016-07-15  Friday        Night  \n",
       "6742 2016-07-15  Friday        Night  \n",
       "6743 2016-07-15  Friday        Night  \n",
       "6744 2016-07-15  Friday        Night  "
      ]
     },
     "execution_count": 46,
     "metadata": {},
     "output_type": "execute_result"
    }
   ],
   "source": [
    "df1.tail()"
   ]
  },
  {
   "cell_type": "code",
   "execution_count": 47,
   "metadata": {},
   "outputs": [
    {
     "data": {
      "text/plain": [
       "Status             WeekDay  \n",
       "Cancelled          Friday        240\n",
       "                   Monday        262\n",
       "                   Thursday      252\n",
       "                   Wednesday     510\n",
       "No Cars Available  Friday        580\n",
       "                   Monday        504\n",
       "                   Thursday      571\n",
       "                   Wednesday     995\n",
       "Trip Completed     Friday        561\n",
       "                   Monday        601\n",
       "                   Thursday      530\n",
       "                   Wednesday    1139\n",
       "dtype: int64"
      ]
     },
     "execution_count": 47,
     "metadata": {},
     "output_type": "execute_result"
    }
   ],
   "source": [
    "df1.groupby(['Status', 'WeekDay']).size()"
   ]
  },
  {
   "cell_type": "code",
   "execution_count": 48,
   "metadata": {},
   "outputs": [
    {
     "data": {
      "text/plain": [
       "WeekDay    Status           \n",
       "Friday     Cancelled             240\n",
       "           No Cars Available     580\n",
       "           Trip Completed        561\n",
       "Monday     Cancelled             262\n",
       "           No Cars Available     504\n",
       "           Trip Completed        601\n",
       "Thursday   Cancelled             252\n",
       "           No Cars Available     571\n",
       "           Trip Completed        530\n",
       "Wednesday  Cancelled             510\n",
       "           No Cars Available     995\n",
       "           Trip Completed       1139\n",
       "dtype: int64"
      ]
     },
     "execution_count": 48,
     "metadata": {},
     "output_type": "execute_result"
    }
   ],
   "source": [
    "# Pivot the data \n",
    "df1.groupby(['WeekDay','Status']).size()"
   ]
  },
  {
   "cell_type": "code",
   "execution_count": 49,
   "metadata": {},
   "outputs": [
    {
     "data": {
      "text/html": [
       "<div>\n",
       "<style scoped>\n",
       "    .dataframe tbody tr th:only-of-type {\n",
       "        vertical-align: middle;\n",
       "    }\n",
       "\n",
       "    .dataframe tbody tr th {\n",
       "        vertical-align: top;\n",
       "    }\n",
       "\n",
       "    .dataframe thead th {\n",
       "        text-align: right;\n",
       "    }\n",
       "</style>\n",
       "<table border=\"1\" class=\"dataframe\">\n",
       "  <thead>\n",
       "    <tr style=\"text-align: right;\">\n",
       "      <th>WeekDay</th>\n",
       "      <th>Friday</th>\n",
       "      <th>Monday</th>\n",
       "      <th>Thursday</th>\n",
       "      <th>Wednesday</th>\n",
       "      <th>All</th>\n",
       "    </tr>\n",
       "    <tr>\n",
       "      <th>Status</th>\n",
       "      <th></th>\n",
       "      <th></th>\n",
       "      <th></th>\n",
       "      <th></th>\n",
       "      <th></th>\n",
       "    </tr>\n",
       "  </thead>\n",
       "  <tbody>\n",
       "    <tr>\n",
       "      <th>Cancelled</th>\n",
       "      <td>240</td>\n",
       "      <td>262</td>\n",
       "      <td>252</td>\n",
       "      <td>510</td>\n",
       "      <td>1264</td>\n",
       "    </tr>\n",
       "    <tr>\n",
       "      <th>No Cars Available</th>\n",
       "      <td>580</td>\n",
       "      <td>504</td>\n",
       "      <td>571</td>\n",
       "      <td>995</td>\n",
       "      <td>2650</td>\n",
       "    </tr>\n",
       "    <tr>\n",
       "      <th>Trip Completed</th>\n",
       "      <td>561</td>\n",
       "      <td>601</td>\n",
       "      <td>530</td>\n",
       "      <td>1139</td>\n",
       "      <td>2831</td>\n",
       "    </tr>\n",
       "    <tr>\n",
       "      <th>All</th>\n",
       "      <td>1381</td>\n",
       "      <td>1367</td>\n",
       "      <td>1353</td>\n",
       "      <td>2644</td>\n",
       "      <td>6745</td>\n",
       "    </tr>\n",
       "  </tbody>\n",
       "</table>\n",
       "</div>"
      ],
      "text/plain": [
       "WeekDay            Friday  Monday  Thursday  Wednesday   All\n",
       "Status                                                      \n",
       "Cancelled             240     262       252        510  1264\n",
       "No Cars Available     580     504       571        995  2650\n",
       "Trip Completed        561     601       530       1139  2831\n",
       "All                  1381    1367      1353       2644  6745"
      ]
     },
     "execution_count": 49,
     "metadata": {},
     "output_type": "execute_result"
    }
   ],
   "source": [
    "pd.crosstab(df1['Status'],df1['WeekDay'], margins=True)\n",
    "#pd.crosstab( df1['Status'],df1['WeekDay'], margins=True)"
   ]
  },
  {
   "cell_type": "code",
   "execution_count": 50,
   "metadata": {},
   "outputs": [
    {
     "data": {
      "image/png": "[encoded data removed]",
      "text/plain": [
       "<Figure size 720x720 with 1 Axes>"
      ]
     },
     "metadata": {},
     "output_type": "display_data"
    }
   ],
   "source": [
    "#plt.style.use('fivethirtyeight')\n",
    "plt.style.use('ggplot')\n",
    "colors=['r','g','b']\n",
    "Status_graph=df1.groupby(['WeekDay', 'Status']).Status.count().unstack().plot.bar(legend=True, figsize=(10,10), color=colors)\n",
    "plt.xlabel=('WeekDay')\n",
    "plt.ylabel(\"Count of Trip Status\")\n",
    "plt.title(\"WeekDay Trip Status\")\n",
    "\n",
    "plt.show()"
   ]
  },
  {
   "cell_type": "code",
   "execution_count": 51,
   "metadata": {},
   "outputs": [
    {
     "data": {
      "text/html": [
       "<div>\n",
       "<style scoped>\n",
       "    .dataframe tbody tr th:only-of-type {\n",
       "        vertical-align: middle;\n",
       "    }\n",
       "\n",
       "    .dataframe tbody tr th {\n",
       "        vertical-align: top;\n",
       "    }\n",
       "\n",
       "    .dataframe thead th {\n",
       "        text-align: right;\n",
       "    }\n",
       "</style>\n",
       "<table border=\"1\" class=\"dataframe\">\n",
       "  <thead>\n",
       "    <tr style=\"text-align: right;\">\n",
       "      <th>Status</th>\n",
       "      <th>Cancelled</th>\n",
       "      <th>No Cars Available</th>\n",
       "      <th>Trip Completed</th>\n",
       "      <th>All</th>\n",
       "    </tr>\n",
       "    <tr>\n",
       "      <th>Time_Session</th>\n",
       "      <th></th>\n",
       "      <th></th>\n",
       "      <th></th>\n",
       "      <th></th>\n",
       "    </tr>\n",
       "  </thead>\n",
       "  <tbody>\n",
       "    <tr>\n",
       "      <th>Rush_Morning</th>\n",
       "      <td>14</td>\n",
       "      <td>225</td>\n",
       "      <td>136</td>\n",
       "      <td>375</td>\n",
       "    </tr>\n",
       "    <tr>\n",
       "      <th>Mid_Afternoon</th>\n",
       "      <td>372</td>\n",
       "      <td>244</td>\n",
       "      <td>430</td>\n",
       "      <td>1046</td>\n",
       "    </tr>\n",
       "    <tr>\n",
       "      <th>Morning</th>\n",
       "      <td>522</td>\n",
       "      <td>236</td>\n",
       "      <td>502</td>\n",
       "      <td>1260</td>\n",
       "    </tr>\n",
       "    <tr>\n",
       "      <th>Evening</th>\n",
       "      <td>96</td>\n",
       "      <td>150</td>\n",
       "      <td>352</td>\n",
       "      <td>598</td>\n",
       "    </tr>\n",
       "    <tr>\n",
       "      <th>Early_Morning</th>\n",
       "      <td>50</td>\n",
       "      <td>138</td>\n",
       "      <td>279</td>\n",
       "      <td>467</td>\n",
       "    </tr>\n",
       "    <tr>\n",
       "      <th>Afternoon</th>\n",
       "      <td>81</td>\n",
       "      <td>600</td>\n",
       "      <td>406</td>\n",
       "      <td>1087</td>\n",
       "    </tr>\n",
       "    <tr>\n",
       "      <th>Night</th>\n",
       "      <td>107</td>\n",
       "      <td>838</td>\n",
       "      <td>469</td>\n",
       "      <td>1414</td>\n",
       "    </tr>\n",
       "    <tr>\n",
       "      <th>Mid_Night</th>\n",
       "      <td>22</td>\n",
       "      <td>219</td>\n",
       "      <td>257</td>\n",
       "      <td>498</td>\n",
       "    </tr>\n",
       "    <tr>\n",
       "      <th>All</th>\n",
       "      <td>1264</td>\n",
       "      <td>2650</td>\n",
       "      <td>2831</td>\n",
       "      <td>6745</td>\n",
       "    </tr>\n",
       "  </tbody>\n",
       "</table>\n",
       "</div>"
      ],
      "text/plain": [
       "Status         Cancelled  No Cars Available  Trip Completed   All\n",
       "Time_Session                                                     \n",
       "Rush_Morning          14                225             136   375\n",
       "Mid_Afternoon        372                244             430  1046\n",
       "Morning              522                236             502  1260\n",
       "Evening               96                150             352   598\n",
       "Early_Morning         50                138             279   467\n",
       "Afternoon             81                600             406  1087\n",
       "Night                107                838             469  1414\n",
       "Mid_Night             22                219             257   498\n",
       "All                 1264               2650            2831  6745"
      ]
     },
     "execution_count": 51,
     "metadata": {},
     "output_type": "execute_result"
    }
   ],
   "source": [
    "pd.crosstab(df1['Time_Session'], df1['Status'], margins=True)\n",
    "#pd.crosstab( df1['Status'],df1['WeekDay'], margins=True)"
   ]
  },
  {
   "cell_type": "code",
   "execution_count": 52,
   "metadata": {},
   "outputs": [
    {
     "data": {
      "image/png": "[encoded data removed]",
      "text/plain": [
       "<Figure size 720x720 with 1 Axes>"
      ]
     },
     "metadata": {},
     "output_type": "display_data"
    }
   ],
   "source": [
    "#plt.style.use('fivethirtyeight')\n",
    "plt.style.use('ggplot')\n",
    "colors=['r','g','b']\n",
    "width=0.25\n",
    "Status_graph=df1.groupby(['Time_Session', 'Status']).Status.count().unstack().plot.bar(legend=True, width=width ,figsize=(10,10), color=colors)\n",
    "plt.xlabel=('Time Session')\n",
    "plt.ylabel(\"Count of Trip Status\")\n",
    "plt.title(\"Timewise Trip Status Summanry Summary \")\n",
    "\n",
    "plt.show()"
   ]
  },
  {
   "cell_type": "markdown",
   "metadata": {},
   "source": [
    "#### Deeper Analysis for Status=cancelled, status=No cars available "
   ]
  },
  {
   "cell_type": "code",
   "execution_count": 53,
   "metadata": {},
   "outputs": [
    {
     "data": {
      "text/plain": [
       "(1264, 7)"
      ]
     },
     "execution_count": 53,
     "metadata": {},
     "output_type": "execute_result"
    }
   ],
   "source": [
    "# filtering the Cancelled trips\n",
    "df1_cancelled=df1[df1.Status=='Cancelled']\n",
    "df1_cancelled.shape\n",
    "#df1.Status.value_counts()\n",
    "                        "
   ]
  },
  {
   "cell_type": "code",
   "execution_count": 54,
   "metadata": {},
   "outputs": [
    {
     "data": {
      "image/png": "[encoded data removed]",
      "text/plain": [
       "<Figure size 720x720 with 1 Axes>"
      ]
     },
     "metadata": {},
     "output_type": "display_data"
    }
   ],
   "source": [
    "# With respect to Pickup_Point Trip cancellation data distribution\n",
    "#plt.style.use('fivethirtyeight')\n",
    "plt.style.use('ggplot')\n",
    "colors=['r','g','b']\n",
    "width=0.25\n",
    "Status_graph=df1_cancelled.groupby(['WeekDay', 'Pickup_Point']).Pickup_Point.count().unstack().plot.bar(legend=True,width=width, figsize=(10,10), color=colors)\n",
    "plt.xlabel=('Pickup Point')\n",
    "plt.ylabel(\"Count of Trip Status\")\n",
    "plt.title(\"Weekly Pickup Point Trip Status\")\n",
    "\n",
    "plt.show()"
   ]
  },
  {
   "cell_type": "code",
   "execution_count": 55,
   "metadata": {},
   "outputs": [
    {
     "data": {
      "image/png": "[encoded data removed]",
      "text/plain": [
       "<Figure size 720x720 with 1 Axes>"
      ]
     },
     "metadata": {},
     "output_type": "display_data"
    }
   ],
   "source": [
    "# With respect to Day time  Trip cancellation data distribution\n",
    "#plt.style.use('fivethirtyeight')\n",
    "plt.style.use('ggplot')\n",
    "colors=['r','g','b']\n",
    "width=0.25\n",
    "Status_graph=df1_cancelled.groupby(['Time_Session', 'Pickup_Point']).Pickup_Point.count().unstack().plot.bar(legend=True,width=width, figsize=(10,10), color=colors)\n",
    "plt.xlabel=('Day Time Session')\n",
    "plt.ylabel(\"Count of Trip Status\")\n",
    "plt.title(\"Distribution of Cancelled Trip over the Day Time \")\n",
    "\n",
    "plt.show()"
   ]
  },
  {
   "cell_type": "markdown",
   "metadata": {},
   "source": [
    "Observation : \n",
    "    from Pickup_Point= City\n",
    "    Highest cancellation took place  at \n",
    "    Early_Morning( 3AM-6AM)\n",
    "    Morning      (6AM-9AM)\n",
    "    Followed by Rush_Morning (9AM-12AM)\n",
    "    \n",
    "    from Pickup_Point= Airport\n",
    "    Cancellation Took place in \n",
    "    Evening (6AM-9AM) - May be due to heavy rush/Traffic\n",
    "    Mid-Afternoon -(3AM-6AM)"
   ]
  },
  {
   "cell_type": "code",
   "execution_count": 57,
   "metadata": {},
   "outputs": [
    {
     "data": {
      "text/plain": [
       "(2650, 7)"
      ]
     },
     "execution_count": 57,
     "metadata": {},
     "output_type": "execute_result"
    }
   ],
   "source": [
    "df1_NoCarAvailable=df1[df1.Status=='No Cars Available']\n",
    "df1_NoCarAvailable.shape"
   ]
  },
  {
   "cell_type": "code",
   "execution_count": 64,
   "metadata": {},
   "outputs": [
    {
     "data": {
      "text/html": [
       "<div>\n",
       "<style scoped>\n",
       "    .dataframe tbody tr th:only-of-type {\n",
       "        vertical-align: middle;\n",
       "    }\n",
       "\n",
       "    .dataframe tbody tr th {\n",
       "        vertical-align: top;\n",
       "    }\n",
       "\n",
       "    .dataframe thead th {\n",
       "        text-align: right;\n",
       "    }\n",
       "</style>\n",
       "<table border=\"1\" class=\"dataframe\">\n",
       "  <thead>\n",
       "    <tr style=\"text-align: right;\">\n",
       "      <th>Pickup_Point</th>\n",
       "      <th>Airport</th>\n",
       "      <th>City</th>\n",
       "      <th>All</th>\n",
       "    </tr>\n",
       "    <tr>\n",
       "      <th>Time_Session</th>\n",
       "      <th></th>\n",
       "      <th></th>\n",
       "      <th></th>\n",
       "    </tr>\n",
       "  </thead>\n",
       "  <tbody>\n",
       "    <tr>\n",
       "      <th>Mid_Night</th>\n",
       "      <td>114</td>\n",
       "      <td>111</td>\n",
       "      <td>225</td>\n",
       "    </tr>\n",
       "    <tr>\n",
       "      <th>Early_Morning</th>\n",
       "      <td>41</td>\n",
       "      <td>203</td>\n",
       "      <td>244</td>\n",
       "    </tr>\n",
       "    <tr>\n",
       "      <th>Morning</th>\n",
       "      <td>14</td>\n",
       "      <td>222</td>\n",
       "      <td>236</td>\n",
       "    </tr>\n",
       "    <tr>\n",
       "      <th>Rush_Morning</th>\n",
       "      <td>37</td>\n",
       "      <td>113</td>\n",
       "      <td>150</td>\n",
       "    </tr>\n",
       "    <tr>\n",
       "      <th>Afternoon</th>\n",
       "      <td>41</td>\n",
       "      <td>97</td>\n",
       "      <td>138</td>\n",
       "    </tr>\n",
       "    <tr>\n",
       "      <th>Mid_Afternoon</th>\n",
       "      <td>533</td>\n",
       "      <td>67</td>\n",
       "      <td>600</td>\n",
       "    </tr>\n",
       "    <tr>\n",
       "      <th>Evening</th>\n",
       "      <td>797</td>\n",
       "      <td>41</td>\n",
       "      <td>838</td>\n",
       "    </tr>\n",
       "    <tr>\n",
       "      <th>Night</th>\n",
       "      <td>136</td>\n",
       "      <td>83</td>\n",
       "      <td>219</td>\n",
       "    </tr>\n",
       "    <tr>\n",
       "      <th>All</th>\n",
       "      <td>1713</td>\n",
       "      <td>937</td>\n",
       "      <td>2650</td>\n",
       "    </tr>\n",
       "  </tbody>\n",
       "</table>\n",
       "</div>"
      ],
      "text/plain": [
       "Pickup_Point   Airport  City   All\n",
       "Time_Session                      \n",
       "Mid_Night          114   111   225\n",
       "Early_Morning       41   203   244\n",
       "Morning             14   222   236\n",
       "Rush_Morning        37   113   150\n",
       "Afternoon           41    97   138\n",
       "Mid_Afternoon      533    67   600\n",
       "Evening            797    41   838\n",
       "Night              136    83   219\n",
       "All               1713   937  2650"
      ]
     },
     "execution_count": 64,
     "metadata": {},
     "output_type": "execute_result"
    }
   ],
   "source": [
    "pd.crosstab(df1_NoCarAvailable['Time_Session'], df1_NoCarAvailable['Pickup_Point'], margins=True)\n",
    "#groupby(['Time_Session','Pickup_Point']).Pickup_Point.count()"
   ]
  },
  {
   "cell_type": "code",
   "execution_count": 61,
   "metadata": {},
   "outputs": [
    {
     "data": {
      "image/png": "[encoded data removed]",
      "text/plain": [
       "<Figure size 720x720 with 1 Axes>"
      ]
     },
     "metadata": {},
     "output_type": "display_data"
    }
   ],
   "source": [
    "#plt.style.use('fivethirtyeight')\n",
    "plt.style.use('ggplot')\n",
    "colors=['r','g','b']\n",
    "width=0.25\n",
    "Status_graph=df1_NoCarAvailable.groupby(['Time_Session','Pickup_Point']).Pickup_Point.count().unstack().plot.bar(legend=True,width=width, figsize=(10,10), color=colors)\n",
    "plt.xlabel=('Time Session')\n",
    "plt.ylabel(\"Total count of No Cars Availalble Trips\")\n",
    "plt.title(\"Distribution of all No Cars Available Trips ove the day \")\n",
    "\n",
    "plt.show()"
   ]
  },
  {
   "cell_type": "code",
   "execution_count": null,
   "metadata": {},
   "outputs": [],
   "source": [
    "Observation : \n",
    "    No cars available happens mostly at Airport."
   ]
  },
  {
   "cell_type": "code",
   "execution_count": 69,
   "metadata": {},
   "outputs": [
    {
     "data": {
      "text/plain": [
       "WeekDay    Pickup_Point\n",
       "Friday     Airport         330\n",
       "           City            250\n",
       "Monday     Airport         338\n",
       "           City            166\n",
       "Thursday   Airport         378\n",
       "           City            193\n",
       "Wednesday  Airport         667\n",
       "           City            328\n",
       "dtype: int64"
      ]
     },
     "execution_count": 69,
     "metadata": {},
     "output_type": "execute_result"
    }
   ],
   "source": [
    "# No Cars Available groupby Weekday and Pickup Point\n",
    "df1_NoCarAvailable.groupby(['WeekDay', \"Pickup_Point\"]).size()"
   ]
  },
  {
   "cell_type": "code",
   "execution_count": 96,
   "metadata": {},
   "outputs": [
    {
     "name": "stdout",
     "output_type": "stream",
     "text": [
      "Supply :  (2831, 7)\n",
      "Demand : (3914, 7)\n"
     ]
    }
   ],
   "source": [
    "supply=df1[df1['Status']=='Trip Completed']\n",
    "print(\"Supply : \", supply.shape)\n",
    "demand=pd.concat([df1_cancelled, df1_NoCarAvailable]) \n",
    "print(\"Demand :\", demand.shape)\n",
    "\n"
   ]
  },
  {
   "cell_type": "code",
   "execution_count": 111,
   "metadata": {},
   "outputs": [
    {
     "name": "stdout",
     "output_type": "stream",
     "text": [
      "Supply from City-Airport 1504\n",
      "Supply from Airport-City 1327\n",
      "Demand from City-Airport : 2003\n",
      "Demand from Airport- City: 1911\n"
     ]
    }
   ],
   "source": [
    "# Pivot the data \n",
    "supply_City=supply[supply['Pickup_Point']=='City']\n",
    "print(\"Supply from City-Airport\", len(supply_City))\n",
    "supply_Airport=supply[supply['Pickup_Point']=='Airport']\n",
    "print(\"Supply from Airport-City\", len(supply_Airport))\n",
    "demand_City=demand[demand['Pickup_Point']=='City']\n",
    "print(\"Demand from City-Airport :\",len(demand_City))\n",
    "\n",
    "demand_Airport=demand[demand['Pickup_Point']=='Airport']\n",
    "print(\"Demand from Airport- City:\",len(demand_Airport))"
   ]
  },
  {
   "cell_type": "code",
   "execution_count": null,
   "metadata": {},
   "outputs": [],
   "source": [
    "#plt.style.use('fivethirtyeight')\n",
    "plt.style.use('ggplot')\n",
    "colors=['r','g','b']\n",
    "width=0.25\n",
    "Status_graph=df1_NoCarAvailable.groupby(['Time_Session','Pickup_Point']).Pickup_Point.count().unstack().plot.bar(legend=True,width=width, figsize=(10,10), color=colors)\n",
    "plt.xlabel=('Time Session')\n",
    "plt.ylabel(\"Total count of No Cars Availalble Trips\")\n",
    "plt.title(\"Distribution of all No Cars Available Trips ove the day \")\n",
    "\n",
    "plt.show()"
   ]
  },
  {
   "cell_type": "code",
   "execution_count": 114,
   "metadata": {},
   "outputs": [
    {
     "data": {
      "image/png": "[encoded data removed]",
      "text/plain": [
       "<Figure size 720x720 with 1 Axes>"
      ]
     },
     "metadata": {},
     "output_type": "display_data"
    }
   ],
   "source": [
    "plt.style.use('ggplot')\n",
    "colors=['r','g','b']\n",
    "supplyg=supply.groupby(['Time_Session','Pickup_Point']).Pickup_Point.count().unstack().plot.line(legend=True, figsize=(10,10))\n",
    "plt.title(\" Supply of Cars from Airport/City\")\n",
    "#plt.xlabel(\"Time Session\")\n",
    "plt.ylabel(\"supply\")\n",
    "plt.show()"
   ]
  },
  {
   "cell_type": "code",
   "execution_count": 125,
   "metadata": {},
   "outputs": [
    {
     "data": {
      "image/png": "[encoded data removed]",
      "text/plain": [
       "<Figure size 720x720 with 1 Axes>"
      ]
     },
     "metadata": {},
     "output_type": "display_data"
    }
   ],
   "source": [
    "plt.style.use('ggplot')\n",
    "colors=['r','g','b']\n",
    "demandg=demand.groupby(['Time_Session','Pickup_Point']).Pickup_Point.count().unstack().plot.line(legend=True, linestyle='--', marker='o',linewidth=2,figsize=(10,10))\n",
    "plt.title(\"Demand of Cars from Airport / City\")\n",
    "#plt.xlabel(\"Day Time_Session\")\n",
    "plt.ylabel(\"Demand Count from pickup point\")\n",
    "plt.show()"
   ]
  },
  {
   "cell_type": "markdown",
   "metadata": {},
   "source": [
    "Demand Graph :\n",
    "    Demand from City-Airport is more in Morning time\n",
    "    Demand from Airport-City is more in Evening time"
   ]
  },
  {
   "cell_type": "code",
   "execution_count": 121,
   "metadata": {},
   "outputs": [
    {
     "data": {
      "image/png": "[encoded data removed]",
      "text/plain": [
       "<Figure size 432x288 with 1 Axes>"
      ]
     },
     "metadata": {},
     "output_type": "display_data"
    }
   ],
   "source": [
    "# PIE CHART\n",
    "plt.style.use(\"fivethirtyeight\")\n",
    "slice=[len(supply_City),len(supply_Airport), len(demand_City), len(demand_Airport)]\n",
    "label=['Supply_City', 'Supply_Airport', \"Demand_City\", \"Demand_Airport\"]\n",
    "colors=[\"blue\", \"red\", \"yellow\", \"green\"]\n",
    "plt.pie(slice, labels=label, colors=colors, wedgeprops={'edgecolor':'black'})\n",
    "\n",
    "plt.title(\"Pie chart\")\n",
    "plt.show()"
   ]
  },
  {
   "cell_type": "markdown",
   "metadata": {},
   "source": [
    "Hypothesis ::\n",
    "\n",
    "Pickup_Point :City\n",
    "Cancellation :\n",
    "    Highest cancellation took place  at \n",
    "    Early_Morning( 3AM-6AM)\n",
    "    Morning      (6AM-9AM)\n",
    "    Followed by Rush_Morning (9AM-12AM)\n",
    "    \n",
    "    \n",
    "    \n",
    "Pickup_Point : Airport\n",
    "Cancellation :\n",
    "    Many Cancellation from City-to- Airport : \"due to heavy traffic\n",
    "    Cancellation Took place at\n",
    "    Evening (6AM-9AM) - May be due to heavy rush/Traffic\n",
    "    Mid-Afternoon -(3AM-6AM)\n",
    "    \n",
    "No Cars Available : \n",
    "    Mostly at \n",
    "    Mid-Afternoon (3AM-6AM)\n",
    "    Evening (6AM-9AM)\n",
    "    \n",
    "\n",
    "\n",
    "Suggestion :\n",
    "    \n",
    "For bridging the Demand and Supply gap from TO- From (Airport-City)\n",
    "    Demand : High        Supply : Low\n",
    "1. Few Cars Available at Airport : Can Introduce \"Uber Taxi Stand\" at Airport.\n",
    "2. Give more incentive to the Drivers for More rides in a week from City-Airport.\n",
    "3. Add-on incentive to the driver, when rides are between 3AM- 9AM from(City-Airport)\n",
    "4. Looking to the data the heaviest day is Wednesday for Cancellation and No Car Available.\n",
    "   Can give more cars on the heavy day=\"Wednesday\" wrt to Time_Session.\n",
    "5. Looking to the data 300 drivers means 300 cars are avilable, but all are not available at service. \n",
    "6. Early morning the City requests is concelled in large numbers by drivers, this issue need to be resolved. Can consider drivers feedback and try to resolve the issue. \n",
    "7. Driver may have problem when they return from Airport without a ride, or go to the Airport for pickup witout a ride. (This may be a cause for cancellation/ No Cars Available)\n",
    "\n",
    "    \n",
    "    \n",
    "    \n",
    "    "
   ]
  },
  {
   "cell_type": "code",
   "execution_count": null,
   "metadata": {},
   "outputs": [],
   "source": []
  }
 ],
 "metadata": {
  "kernelspec": {
   "display_name": "Python 3",
   "language": "python",
   "name": "python3"
  },
  "language_info": {
   "codemirror_mode": {
    "name": "ipython",
    "version": 3
   },
   "file_extension": ".py",
   "mimetype": "text/x-python",
   "name": "python",
   "nbconvert_exporter": "python",
   "pygments_lexer": "ipython3",
   "version": "3.6.5"
  }
 },
 "nbformat": 4,
 "nbformat_minor": 2
}
