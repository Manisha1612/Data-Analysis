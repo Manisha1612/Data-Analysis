{
 "cells": [
  {
   "cell_type": "code",
   "execution_count": 1,
   "metadata": {},
   "outputs": [],
   "source": [
    "import pandas as pd\n",
    "import numpy as np\n",
    "%matplotlib inline\n",
    "import matplotlib.pyplot as plt\n",
    "import seaborn as sns"
   ]
  },
  {
   "cell_type": "code",
   "execution_count": 2,
   "metadata": {},
   "outputs": [],
   "source": [
    "df=pd.read_csv(\"blackFridaySaleData.csv\")"
   ]
  },
  {
   "cell_type": "code",
   "execution_count": 3,
   "metadata": {},
   "outputs": [
    {
     "data": {
      "text/plain": [
       "User_ID                       550068\n",
       "Product_ID                    550068\n",
       "Gender                        550068\n",
       "Age                           550068\n",
       "Occupation                    550068\n",
       "City_Category                 550068\n",
       "Stay_In_Current_City_Years    550068\n",
       "Marital_Status                550068\n",
       "Product_Category_1            550068\n",
       "Product_Category_2            376430\n",
       "Product_Category_3            166821\n",
       "Purchase                      550068\n",
       "dtype: int64"
      ]
     },
     "execution_count": 3,
     "metadata": {},
     "output_type": "execute_result"
    }
   ],
   "source": [
    "df.count()"
   ]
  },
  {
   "cell_type": "code",
   "execution_count": 4,
   "metadata": {},
   "outputs": [
    {
     "data": {
      "text/plain": [
       "Index(['User_ID', 'Product_ID', 'Gender', 'Age', 'Occupation', 'City_Category',\n",
       "       'Stay_In_Current_City_Years', 'Marital_Status', 'Product_Category_1',\n",
       "       'Product_Category_2', 'Product_Category_3', 'Purchase'],\n",
       "      dtype='object')"
      ]
     },
     "execution_count": 4,
     "metadata": {},
     "output_type": "execute_result"
    }
   ],
   "source": [
    "df.columns"
   ]
  },
  {
   "cell_type": "code",
   "execution_count": 5,
   "metadata": {},
   "outputs": [],
   "source": [
    "dfCopy = df.copy()"
   ]
  },
  {
   "cell_type": "code",
   "execution_count": 6,
   "metadata": {},
   "outputs": [
    {
     "data": {
      "text/plain": [
       "(550068, 12)"
      ]
     },
     "execution_count": 6,
     "metadata": {},
     "output_type": "execute_result"
    }
   ],
   "source": [
    "df.shape"
   ]
  },
  {
   "cell_type": "code",
   "execution_count": 7,
   "metadata": {},
   "outputs": [
    {
     "name": "stdout",
     "output_type": "stream",
     "text": [
      "Total unique products are: 3631\n"
     ]
    }
   ],
   "source": [
    "print(\"Total unique products are:\", len(df['Product_ID'].value_counts()))"
   ]
  },
  {
   "cell_type": "code",
   "execution_count": 8,
   "metadata": {},
   "outputs": [
    {
     "name": "stdout",
     "output_type": "stream",
     "text": [
      "<class 'pandas.core.frame.DataFrame'>\n",
      "RangeIndex: 550068 entries, 0 to 550067\n",
      "Data columns (total 12 columns):\n",
      "User_ID                       550068 non-null int64\n",
      "Product_ID                    550068 non-null object\n",
      "Gender                        550068 non-null object\n",
      "Age                           550068 non-null object\n",
      "Occupation                    550068 non-null int64\n",
      "City_Category                 550068 non-null object\n",
      "Stay_In_Current_City_Years    550068 non-null object\n",
      "Marital_Status                550068 non-null int64\n",
      "Product_Category_1            550068 non-null int64\n",
      "Product_Category_2            376430 non-null float64\n",
      "Product_Category_3            166821 non-null float64\n",
      "Purchase                      550068 non-null int64\n",
      "dtypes: float64(2), int64(5), object(5)\n",
      "memory usage: 50.4+ MB\n"
     ]
    }
   ],
   "source": [
    "df.info()"
   ]
  },
  {
   "cell_type": "code",
   "execution_count": 9,
   "metadata": {},
   "outputs": [
    {
     "data": {
      "text/plain": [
       "User_ID                         int64\n",
       "Product_ID                     object\n",
       "Gender                         object\n",
       "Age                            object\n",
       "Occupation                      int64\n",
       "City_Category                  object\n",
       "Stay_In_Current_City_Years     object\n",
       "Marital_Status                  int64\n",
       "Product_Category_1              int64\n",
       "Product_Category_2            float64\n",
       "Product_Category_3            float64\n",
       "Purchase                        int64\n",
       "dtype: object"
      ]
     },
     "execution_count": 9,
     "metadata": {},
     "output_type": "execute_result"
    }
   ],
   "source": [
    "df.dtypes"
   ]
  },
  {
   "cell_type": "code",
   "execution_count": 10,
   "metadata": {},
   "outputs": [],
   "source": [
    "# drop unwanted column\n",
    "df.drop(['User_ID'], axis=1, inplace=True)"
   ]
  },
  {
   "cell_type": "code",
   "execution_count": 11,
   "metadata": {},
   "outputs": [
    {
     "data": {
      "text/plain": [
       "Product_ID                         0\n",
       "Gender                             0\n",
       "Age                                0\n",
       "Occupation                         0\n",
       "City_Category                      0\n",
       "Stay_In_Current_City_Years         0\n",
       "Marital_Status                     0\n",
       "Product_Category_1                 0\n",
       "Product_Category_2            173638\n",
       "Product_Category_3            383247\n",
       "Purchase                           0\n",
       "dtype: int64"
      ]
     },
     "execution_count": 11,
     "metadata": {},
     "output_type": "execute_result"
    }
   ],
   "source": [
    "df.isnull().sum()"
   ]
  },
  {
   "cell_type": "code",
   "execution_count": 12,
   "metadata": {},
   "outputs": [
    {
     "name": "stdout",
     "output_type": "stream",
     "text": [
      "Missing values columns are :  Index(['Product_Category_2', 'Product_Category_3'], dtype='object')\n",
      "Column Name   Missing value\n"
     ]
    },
    {
     "data": {
      "text/plain": [
       "Product_Category_2    173638\n",
       "Product_Category_3    383247\n",
       "dtype: int64"
      ]
     },
     "execution_count": 12,
     "metadata": {},
     "output_type": "execute_result"
    }
   ],
   "source": [
    "# To get only name of the columns having null/Missing values with its count\n",
    "\n",
    "null_columns=df.columns[df.isnull().any()]\n",
    "print(\"Missing values columns are : \", null_columns)\n",
    "\n",
    "# To get the count of null/Missing values\n",
    "print(\"Column Name   Missing value\")\n",
    "df[null_columns].isnull().sum()\n",
    "\n",
    "\n"
   ]
  },
  {
   "cell_type": "code",
   "execution_count": 13,
   "metadata": {},
   "outputs": [
    {
     "data": {
      "text/html": [
       "<div>\n",
       "<style scoped>\n",
       "    .dataframe tbody tr th:only-of-type {\n",
       "        vertical-align: middle;\n",
       "    }\n",
       "\n",
       "    .dataframe tbody tr th {\n",
       "        vertical-align: top;\n",
       "    }\n",
       "\n",
       "    .dataframe thead th {\n",
       "        text-align: right;\n",
       "    }\n",
       "</style>\n",
       "<table border=\"1\" class=\"dataframe\">\n",
       "  <thead>\n",
       "    <tr style=\"text-align: right;\">\n",
       "      <th></th>\n",
       "      <th>Occupation</th>\n",
       "      <th>Marital_Status</th>\n",
       "      <th>Product_Category_1</th>\n",
       "      <th>Product_Category_2</th>\n",
       "      <th>Product_Category_3</th>\n",
       "      <th>Purchase</th>\n",
       "    </tr>\n",
       "  </thead>\n",
       "  <tbody>\n",
       "    <tr>\n",
       "      <td>count</td>\n",
       "      <td>550068.000000</td>\n",
       "      <td>550068.000000</td>\n",
       "      <td>550068.000000</td>\n",
       "      <td>376430.000000</td>\n",
       "      <td>166821.000000</td>\n",
       "      <td>550068.000000</td>\n",
       "    </tr>\n",
       "    <tr>\n",
       "      <td>mean</td>\n",
       "      <td>8.076707</td>\n",
       "      <td>0.409653</td>\n",
       "      <td>5.404270</td>\n",
       "      <td>9.842329</td>\n",
       "      <td>12.668243</td>\n",
       "      <td>9263.968713</td>\n",
       "    </tr>\n",
       "    <tr>\n",
       "      <td>std</td>\n",
       "      <td>6.522660</td>\n",
       "      <td>0.491770</td>\n",
       "      <td>3.936211</td>\n",
       "      <td>5.086590</td>\n",
       "      <td>4.125338</td>\n",
       "      <td>5023.065394</td>\n",
       "    </tr>\n",
       "    <tr>\n",
       "      <td>min</td>\n",
       "      <td>0.000000</td>\n",
       "      <td>0.000000</td>\n",
       "      <td>1.000000</td>\n",
       "      <td>2.000000</td>\n",
       "      <td>3.000000</td>\n",
       "      <td>12.000000</td>\n",
       "    </tr>\n",
       "    <tr>\n",
       "      <td>25%</td>\n",
       "      <td>2.000000</td>\n",
       "      <td>0.000000</td>\n",
       "      <td>1.000000</td>\n",
       "      <td>5.000000</td>\n",
       "      <td>9.000000</td>\n",
       "      <td>5823.000000</td>\n",
       "    </tr>\n",
       "    <tr>\n",
       "      <td>50%</td>\n",
       "      <td>7.000000</td>\n",
       "      <td>0.000000</td>\n",
       "      <td>5.000000</td>\n",
       "      <td>9.000000</td>\n",
       "      <td>14.000000</td>\n",
       "      <td>8047.000000</td>\n",
       "    </tr>\n",
       "    <tr>\n",
       "      <td>75%</td>\n",
       "      <td>14.000000</td>\n",
       "      <td>1.000000</td>\n",
       "      <td>8.000000</td>\n",
       "      <td>15.000000</td>\n",
       "      <td>16.000000</td>\n",
       "      <td>12054.000000</td>\n",
       "    </tr>\n",
       "    <tr>\n",
       "      <td>max</td>\n",
       "      <td>20.000000</td>\n",
       "      <td>1.000000</td>\n",
       "      <td>20.000000</td>\n",
       "      <td>18.000000</td>\n",
       "      <td>18.000000</td>\n",
       "      <td>23961.000000</td>\n",
       "    </tr>\n",
       "  </tbody>\n",
       "</table>\n",
       "</div>"
      ],
      "text/plain": [
       "          Occupation  Marital_Status  Product_Category_1  Product_Category_2  \\\n",
       "count  550068.000000   550068.000000       550068.000000       376430.000000   \n",
       "mean        8.076707        0.409653            5.404270            9.842329   \n",
       "std         6.522660        0.491770            3.936211            5.086590   \n",
       "min         0.000000        0.000000            1.000000            2.000000   \n",
       "25%         2.000000        0.000000            1.000000            5.000000   \n",
       "50%         7.000000        0.000000            5.000000            9.000000   \n",
       "75%        14.000000        1.000000            8.000000           15.000000   \n",
       "max        20.000000        1.000000           20.000000           18.000000   \n",
       "\n",
       "       Product_Category_3       Purchase  \n",
       "count       166821.000000  550068.000000  \n",
       "mean            12.668243    9263.968713  \n",
       "std              4.125338    5023.065394  \n",
       "min              3.000000      12.000000  \n",
       "25%              9.000000    5823.000000  \n",
       "50%             14.000000    8047.000000  \n",
       "75%             16.000000   12054.000000  \n",
       "max             18.000000   23961.000000  "
      ]
     },
     "execution_count": 13,
     "metadata": {},
     "output_type": "execute_result"
    }
   ],
   "source": [
    "df.describe()"
   ]
  },
  {
   "cell_type": "code",
   "execution_count": 14,
   "metadata": {},
   "outputs": [
    {
     "data": {
      "text/plain": [
       "array([[<matplotlib.axes._subplots.AxesSubplot object at 0x7f7b3904eed0>,\n",
       "        <matplotlib.axes._subplots.AxesSubplot object at 0x7f7b284795d0>],\n",
       "       [<matplotlib.axes._subplots.AxesSubplot object at 0x7f7ad845fdd0>,\n",
       "        <matplotlib.axes._subplots.AxesSubplot object at 0x7f7b38f52610>],\n",
       "       [<matplotlib.axes._subplots.AxesSubplot object at 0x7f7b180f3e10>,\n",
       "        <matplotlib.axes._subplots.AxesSubplot object at 0x7f7b4b6dd650>]],\n",
       "      dtype=object)"
      ]
     },
     "execution_count": 14,
     "metadata": {},
     "output_type": "execute_result"
    },
    {
     "data": {
      "image/png": "[encoded data removed]",
      "text/plain": [
       "<Figure size 432x288 with 6 Axes>"
      ]
     },
     "metadata": {
      "needs_background": "light"
     },
     "output_type": "display_data"
    }
   ],
   "source": [
    "df.hist()"
   ]
  },
  {
   "cell_type": "code",
   "execution_count": 15,
   "metadata": {},
   "outputs": [
    {
     "data": {
      "text/plain": [
       "['0-17', '18-25', '26-35', '36-45', '46-50', '51-55', '55+']"
      ]
     },
     "execution_count": 15,
     "metadata": {},
     "output_type": "execute_result"
    }
   ],
   "source": [
    "sorted(df['Age'].unique().tolist())"
   ]
  },
  {
   "cell_type": "code",
   "execution_count": 16,
   "metadata": {},
   "outputs": [
    {
     "data": {
      "text/plain": [
       "[0, 1, 2, 3, 4, 5, 6, 7, 8, 9, 10, 11, 12, 13, 14, 15, 16, 17, 18, 19, 20]"
      ]
     },
     "execution_count": 16,
     "metadata": {},
     "output_type": "execute_result"
    }
   ],
   "source": [
    "sorted(df['Occupation'].unique().tolist())"
   ]
  },
  {
   "cell_type": "code",
   "execution_count": 17,
   "metadata": {},
   "outputs": [
    {
     "data": {
      "text/plain": [
       "['A', 'B', 'C']"
      ]
     },
     "execution_count": 17,
     "metadata": {},
     "output_type": "execute_result"
    }
   ],
   "source": [
    "sorted(df['City_Category'].unique().tolist())"
   ]
  },
  {
   "cell_type": "code",
   "execution_count": 18,
   "metadata": {},
   "outputs": [
    {
     "data": {
      "text/plain": [
       "[0, 1]"
      ]
     },
     "execution_count": 18,
     "metadata": {},
     "output_type": "execute_result"
    }
   ],
   "source": [
    "sorted(df['Marital_Status'].unique().tolist())"
   ]
  },
  {
   "cell_type": "code",
   "execution_count": 19,
   "metadata": {},
   "outputs": [
    {
     "data": {
      "text/plain": [
       "array(['F', 'M'], dtype=object)"
      ]
     },
     "execution_count": 19,
     "metadata": {},
     "output_type": "execute_result"
    }
   ],
   "source": [
    "df['Gender'].unique()"
   ]
  },
  {
   "cell_type": "code",
   "execution_count": 20,
   "metadata": {},
   "outputs": [
    {
     "data": {
      "text/plain": [
       "M    414259\n",
       "F    135809\n",
       "Name: Gender, dtype: int64"
      ]
     },
     "execution_count": 20,
     "metadata": {},
     "output_type": "execute_result"
    }
   ],
   "source": [
    "df.Gender.value_counts()"
   ]
  },
  {
   "cell_type": "code",
   "execution_count": 21,
   "metadata": {},
   "outputs": [
    {
     "data": {
      "text/plain": [
       "0    324731\n",
       "1    225337\n",
       "Name: Marital_Status, dtype: int64"
      ]
     },
     "execution_count": 21,
     "metadata": {},
     "output_type": "execute_result"
    }
   ],
   "source": [
    "# 0- unmarried , 1- married\n",
    "df.Marital_Status.value_counts()"
   ]
  },
  {
   "cell_type": "code",
   "execution_count": 22,
   "metadata": {},
   "outputs": [
    {
     "data": {
      "text/plain": [
       "B    231173\n",
       "C    171175\n",
       "A    147720\n",
       "Name: City_Category, dtype: int64"
      ]
     },
     "execution_count": 22,
     "metadata": {},
     "output_type": "execute_result"
    }
   ],
   "source": [
    "df.City_Category.value_counts()\n"
   ]
  },
  {
   "cell_type": "code",
   "execution_count": 23,
   "metadata": {},
   "outputs": [
    {
     "data": {
      "text/plain": [
       "4     72308\n",
       "0     69638\n",
       "7     59133\n",
       "1     47426\n",
       "17    40043\n",
       "20    33562\n",
       "12    31179\n",
       "14    27309\n",
       "2     26588\n",
       "16    25371\n",
       "6     20355\n",
       "3     17650\n",
       "10    12930\n",
       "5     12177\n",
       "15    12165\n",
       "11    11586\n",
       "19     8461\n",
       "13     7728\n",
       "18     6622\n",
       "9      6291\n",
       "8      1546\n",
       "Name: Occupation, dtype: int64"
      ]
     },
     "execution_count": 23,
     "metadata": {},
     "output_type": "execute_result"
    }
   ],
   "source": [
    "df.Occupation.value_counts()"
   ]
  },
  {
   "cell_type": "code",
   "execution_count": 24,
   "metadata": {},
   "outputs": [
    {
     "data": {
      "text/plain": [
       "26-35    219587\n",
       "36-45    110013\n",
       "18-25     99660\n",
       "46-50     45701\n",
       "51-55     38501\n",
       "55+       21504\n",
       "0-17      15102\n",
       "Name: Age, dtype: int64"
      ]
     },
     "execution_count": 24,
     "metadata": {},
     "output_type": "execute_result"
    }
   ],
   "source": [
    "df.Age.value_counts()"
   ]
  },
  {
   "cell_type": "code",
   "execution_count": 25,
   "metadata": {},
   "outputs": [
    {
     "data": {
      "image/png": "[encoded data removed]",
      "text/plain": [
       "<Figure size 432x288 with 1 Axes>"
      ]
     },
     "metadata": {},
     "output_type": "display_data"
    }
   ],
   "source": [
    "plt.style.use('ggplot')\n",
    "age = df.Age.value_counts()\n",
    "\n",
    "age.plot.bar(color = 'b')\n",
    "plt.xlable  = ('Age groups')\n",
    "plt.ylabel = ('Product Sold')"
   ]
  },
  {
   "cell_type": "code",
   "execution_count": 26,
   "metadata": {},
   "outputs": [
    {
     "data": {
      "text/plain": [
       "Purchase  Age  \n",
       "12        0-17      3\n",
       "          18-25    20\n",
       "          26-35    29\n",
       "          36-45    23\n",
       "          46-50    12\n",
       "                   ..\n",
       "23960     36-45     1\n",
       "          46-50     1\n",
       "          51-55     1\n",
       "          55+       1\n",
       "23961     26-35     3\n",
       "Length: 82796, dtype: int64"
      ]
     },
     "execution_count": 26,
     "metadata": {},
     "output_type": "execute_result"
    }
   ],
   "source": [
    "df.groupby(['Purchase', 'Age']).size()"
   ]
  },
  {
   "cell_type": "code",
   "execution_count": 27,
   "metadata": {},
   "outputs": [
    {
     "data": {
      "text/plain": [
       "7011     191\n",
       "7193     188\n",
       "6855     187\n",
       "6891     184\n",
       "6960     183\n",
       "        ... \n",
       "15105      1\n",
       "14384      1\n",
       "10453      1\n",
       "8537       1\n",
       "14640      1\n",
       "Name: Purchase, Length: 18105, dtype: int64"
      ]
     },
     "execution_count": 27,
     "metadata": {},
     "output_type": "execute_result"
    }
   ],
   "source": [
    "df.Purchase.value_counts()"
   ]
  },
  {
   "cell_type": "code",
   "execution_count": 28,
   "metadata": {},
   "outputs": [
    {
     "data": {
      "text/html": [
       "<div>\n",
       "<style scoped>\n",
       "    .dataframe tbody tr th:only-of-type {\n",
       "        vertical-align: middle;\n",
       "    }\n",
       "\n",
       "    .dataframe tbody tr th {\n",
       "        vertical-align: top;\n",
       "    }\n",
       "\n",
       "    .dataframe thead th {\n",
       "        text-align: right;\n",
       "    }\n",
       "</style>\n",
       "<table border=\"1\" class=\"dataframe\">\n",
       "  <thead>\n",
       "    <tr style=\"text-align: right;\">\n",
       "      <th></th>\n",
       "      <th>Occupation</th>\n",
       "      <th>Marital_Status</th>\n",
       "      <th>Product_Category_1</th>\n",
       "      <th>Product_Category_2</th>\n",
       "      <th>Product_Category_3</th>\n",
       "      <th>Purchase</th>\n",
       "    </tr>\n",
       "    <tr>\n",
       "      <th>Age</th>\n",
       "      <th></th>\n",
       "      <th></th>\n",
       "      <th></th>\n",
       "      <th></th>\n",
       "      <th></th>\n",
       "      <th></th>\n",
       "    </tr>\n",
       "  </thead>\n",
       "  <tbody>\n",
       "    <tr>\n",
       "      <td>0-17</td>\n",
       "      <td>132309</td>\n",
       "      <td>0</td>\n",
       "      <td>76775</td>\n",
       "      <td>96155.0</td>\n",
       "      <td>57725.0</td>\n",
       "      <td>134913183</td>\n",
       "    </tr>\n",
       "    <tr>\n",
       "      <td>18-25</td>\n",
       "      <td>671348</td>\n",
       "      <td>21116</td>\n",
       "      <td>509371</td>\n",
       "      <td>654936.0</td>\n",
       "      <td>388041.0</td>\n",
       "      <td>913848675</td>\n",
       "    </tr>\n",
       "    <tr>\n",
       "      <td>26-35</td>\n",
       "      <td>1734073</td>\n",
       "      <td>86291</td>\n",
       "      <td>1166945</td>\n",
       "      <td>1473278.0</td>\n",
       "      <td>846624.0</td>\n",
       "      <td>2031770578</td>\n",
       "    </tr>\n",
       "    <tr>\n",
       "      <td>36-45</td>\n",
       "      <td>972225</td>\n",
       "      <td>43636</td>\n",
       "      <td>604438</td>\n",
       "      <td>750081.0</td>\n",
       "      <td>424412.0</td>\n",
       "      <td>1026569884</td>\n",
       "    </tr>\n",
       "    <tr>\n",
       "      <td>46-50</td>\n",
       "      <td>389239</td>\n",
       "      <td>33011</td>\n",
       "      <td>262424</td>\n",
       "      <td>315572.0</td>\n",
       "      <td>173059.0</td>\n",
       "      <td>420843403</td>\n",
       "    </tr>\n",
       "    <tr>\n",
       "      <td>51-55</td>\n",
       "      <td>339198</td>\n",
       "      <td>27662</td>\n",
       "      <td>222313</td>\n",
       "      <td>267570.0</td>\n",
       "      <td>146334.0</td>\n",
       "      <td>367099644</td>\n",
       "    </tr>\n",
       "    <tr>\n",
       "      <td>55+</td>\n",
       "      <td>204346</td>\n",
       "      <td>13621</td>\n",
       "      <td>130450</td>\n",
       "      <td>147356.0</td>\n",
       "      <td>77134.0</td>\n",
       "      <td>200767375</td>\n",
       "    </tr>\n",
       "  </tbody>\n",
       "</table>\n",
       "</div>"
      ],
      "text/plain": [
       "       Occupation  Marital_Status  Product_Category_1  Product_Category_2  \\\n",
       "Age                                                                         \n",
       "0-17       132309               0               76775             96155.0   \n",
       "18-25      671348           21116              509371            654936.0   \n",
       "26-35     1734073           86291             1166945           1473278.0   \n",
       "36-45      972225           43636              604438            750081.0   \n",
       "46-50      389239           33011              262424            315572.0   \n",
       "51-55      339198           27662              222313            267570.0   \n",
       "55+        204346           13621              130450            147356.0   \n",
       "\n",
       "       Product_Category_3    Purchase  \n",
       "Age                                    \n",
       "0-17              57725.0   134913183  \n",
       "18-25            388041.0   913848675  \n",
       "26-35            846624.0  2031770578  \n",
       "36-45            424412.0  1026569884  \n",
       "46-50            173059.0   420843403  \n",
       "51-55            146334.0   367099644  \n",
       "55+               77134.0   200767375  "
      ]
     },
     "execution_count": 28,
     "metadata": {},
     "output_type": "execute_result"
    }
   ],
   "source": [
    "df.groupby(by=[\"Age\"]).sum()"
   ]
  },
  {
   "cell_type": "code",
   "execution_count": 29,
   "metadata": {},
   "outputs": [
    {
     "data": {
      "text/html": [
       "<div>\n",
       "<style scoped>\n",
       "    .dataframe tbody tr th:only-of-type {\n",
       "        vertical-align: middle;\n",
       "    }\n",
       "\n",
       "    .dataframe tbody tr th {\n",
       "        vertical-align: top;\n",
       "    }\n",
       "\n",
       "    .dataframe thead th {\n",
       "        text-align: right;\n",
       "    }\n",
       "</style>\n",
       "<table border=\"1\" class=\"dataframe\">\n",
       "  <thead>\n",
       "    <tr style=\"text-align: right;\">\n",
       "      <th></th>\n",
       "      <th>Occupation</th>\n",
       "      <th>Marital_Status</th>\n",
       "      <th>Product_Category_1</th>\n",
       "      <th>Product_Category_2</th>\n",
       "      <th>Product_Category_3</th>\n",
       "      <th>Purchase</th>\n",
       "    </tr>\n",
       "    <tr>\n",
       "      <th>Age</th>\n",
       "      <th></th>\n",
       "      <th></th>\n",
       "      <th></th>\n",
       "      <th></th>\n",
       "      <th></th>\n",
       "      <th></th>\n",
       "    </tr>\n",
       "  </thead>\n",
       "  <tbody>\n",
       "    <tr>\n",
       "      <td>0-17</td>\n",
       "      <td>132309</td>\n",
       "      <td>0</td>\n",
       "      <td>76775</td>\n",
       "      <td>96155.0</td>\n",
       "      <td>57725.0</td>\n",
       "      <td>134913183</td>\n",
       "    </tr>\n",
       "    <tr>\n",
       "      <td>18-25</td>\n",
       "      <td>671348</td>\n",
       "      <td>21116</td>\n",
       "      <td>509371</td>\n",
       "      <td>654936.0</td>\n",
       "      <td>388041.0</td>\n",
       "      <td>913848675</td>\n",
       "    </tr>\n",
       "    <tr>\n",
       "      <td>26-35</td>\n",
       "      <td>1734073</td>\n",
       "      <td>86291</td>\n",
       "      <td>1166945</td>\n",
       "      <td>1473278.0</td>\n",
       "      <td>846624.0</td>\n",
       "      <td>2031770578</td>\n",
       "    </tr>\n",
       "    <tr>\n",
       "      <td>36-45</td>\n",
       "      <td>972225</td>\n",
       "      <td>43636</td>\n",
       "      <td>604438</td>\n",
       "      <td>750081.0</td>\n",
       "      <td>424412.0</td>\n",
       "      <td>1026569884</td>\n",
       "    </tr>\n",
       "    <tr>\n",
       "      <td>46-50</td>\n",
       "      <td>389239</td>\n",
       "      <td>33011</td>\n",
       "      <td>262424</td>\n",
       "      <td>315572.0</td>\n",
       "      <td>173059.0</td>\n",
       "      <td>420843403</td>\n",
       "    </tr>\n",
       "    <tr>\n",
       "      <td>51-55</td>\n",
       "      <td>339198</td>\n",
       "      <td>27662</td>\n",
       "      <td>222313</td>\n",
       "      <td>267570.0</td>\n",
       "      <td>146334.0</td>\n",
       "      <td>367099644</td>\n",
       "    </tr>\n",
       "    <tr>\n",
       "      <td>55+</td>\n",
       "      <td>204346</td>\n",
       "      <td>13621</td>\n",
       "      <td>130450</td>\n",
       "      <td>147356.0</td>\n",
       "      <td>77134.0</td>\n",
       "      <td>200767375</td>\n",
       "    </tr>\n",
       "  </tbody>\n",
       "</table>\n",
       "</div>"
      ],
      "text/plain": [
       "       Occupation  Marital_Status  Product_Category_1  Product_Category_2  \\\n",
       "Age                                                                         \n",
       "0-17       132309               0               76775             96155.0   \n",
       "18-25      671348           21116              509371            654936.0   \n",
       "26-35     1734073           86291             1166945           1473278.0   \n",
       "36-45      972225           43636              604438            750081.0   \n",
       "46-50      389239           33011              262424            315572.0   \n",
       "51-55      339198           27662              222313            267570.0   \n",
       "55+        204346           13621              130450            147356.0   \n",
       "\n",
       "       Product_Category_3    Purchase  \n",
       "Age                                    \n",
       "0-17              57725.0   134913183  \n",
       "18-25            388041.0   913848675  \n",
       "26-35            846624.0  2031770578  \n",
       "36-45            424412.0  1026569884  \n",
       "46-50            173059.0   420843403  \n",
       "51-55            146334.0   367099644  \n",
       "55+               77134.0   200767375  "
      ]
     },
     "execution_count": 29,
     "metadata": {},
     "output_type": "execute_result"
    }
   ],
   "source": [
    "df.groupby(by=['Age']).sum()"
   ]
  },
  {
   "cell_type": "code",
   "execution_count": 30,
   "metadata": {},
   "outputs": [
    {
     "data": {
      "text/html": [
       "<div>\n",
       "<style scoped>\n",
       "    .dataframe tbody tr th:only-of-type {\n",
       "        vertical-align: middle;\n",
       "    }\n",
       "\n",
       "    .dataframe tbody tr th {\n",
       "        vertical-align: top;\n",
       "    }\n",
       "\n",
       "    .dataframe thead th {\n",
       "        text-align: right;\n",
       "    }\n",
       "</style>\n",
       "<table border=\"1\" class=\"dataframe\">\n",
       "  <thead>\n",
       "    <tr style=\"text-align: right;\">\n",
       "      <th></th>\n",
       "      <th>Marital_Status</th>\n",
       "      <th>Product_Category_1</th>\n",
       "      <th>Product_Category_2</th>\n",
       "      <th>Product_Category_3</th>\n",
       "      <th>Purchase</th>\n",
       "    </tr>\n",
       "    <tr>\n",
       "      <th>Occupation</th>\n",
       "      <th></th>\n",
       "      <th></th>\n",
       "      <th></th>\n",
       "      <th></th>\n",
       "      <th></th>\n",
       "    </tr>\n",
       "  </thead>\n",
       "  <tbody>\n",
       "    <tr>\n",
       "      <td>0</td>\n",
       "      <td>29149</td>\n",
       "      <td>378374</td>\n",
       "      <td>464793.0</td>\n",
       "      <td>263929.0</td>\n",
       "      <td>635406958</td>\n",
       "    </tr>\n",
       "    <tr>\n",
       "      <td>1</td>\n",
       "      <td>22702</td>\n",
       "      <td>269249</td>\n",
       "      <td>319095.0</td>\n",
       "      <td>172085.0</td>\n",
       "      <td>424614144</td>\n",
       "    </tr>\n",
       "    <tr>\n",
       "      <td>2</td>\n",
       "      <td>12282</td>\n",
       "      <td>150096</td>\n",
       "      <td>176408.0</td>\n",
       "      <td>95243.0</td>\n",
       "      <td>238028583</td>\n",
       "    </tr>\n",
       "    <tr>\n",
       "      <td>3</td>\n",
       "      <td>7286</td>\n",
       "      <td>98740</td>\n",
       "      <td>119452.0</td>\n",
       "      <td>63335.0</td>\n",
       "      <td>162002168</td>\n",
       "    </tr>\n",
       "    <tr>\n",
       "      <td>4</td>\n",
       "      <td>19532</td>\n",
       "      <td>375044</td>\n",
       "      <td>478959.0</td>\n",
       "      <td>279431.0</td>\n",
       "      <td>666244484</td>\n",
       "    </tr>\n",
       "    <tr>\n",
       "      <td>5</td>\n",
       "      <td>4569</td>\n",
       "      <td>62643</td>\n",
       "      <td>80713.0</td>\n",
       "      <td>48775.0</td>\n",
       "      <td>113649759</td>\n",
       "    </tr>\n",
       "    <tr>\n",
       "      <td>6</td>\n",
       "      <td>9165</td>\n",
       "      <td>114201</td>\n",
       "      <td>135849.0</td>\n",
       "      <td>73840.0</td>\n",
       "      <td>188416784</td>\n",
       "    </tr>\n",
       "    <tr>\n",
       "      <td>7</td>\n",
       "      <td>25730</td>\n",
       "      <td>320171</td>\n",
       "      <td>402950.0</td>\n",
       "      <td>228545.0</td>\n",
       "      <td>557371587</td>\n",
       "    </tr>\n",
       "    <tr>\n",
       "      <td>8</td>\n",
       "      <td>855</td>\n",
       "      <td>7237</td>\n",
       "      <td>10315.0</td>\n",
       "      <td>6756.0</td>\n",
       "      <td>14737388</td>\n",
       "    </tr>\n",
       "    <tr>\n",
       "      <td>9</td>\n",
       "      <td>3253</td>\n",
       "      <td>34513</td>\n",
       "      <td>43595.0</td>\n",
       "      <td>22767.0</td>\n",
       "      <td>54340046</td>\n",
       "    </tr>\n",
       "    <tr>\n",
       "      <td>10</td>\n",
       "      <td>753</td>\n",
       "      <td>64308</td>\n",
       "      <td>82153.0</td>\n",
       "      <td>51357.0</td>\n",
       "      <td>115844465</td>\n",
       "    </tr>\n",
       "    <tr>\n",
       "      <td>11</td>\n",
       "      <td>4446</td>\n",
       "      <td>64812</td>\n",
       "      <td>76751.0</td>\n",
       "      <td>41776.0</td>\n",
       "      <td>106751618</td>\n",
       "    </tr>\n",
       "    <tr>\n",
       "      <td>12</td>\n",
       "      <td>14499</td>\n",
       "      <td>161372</td>\n",
       "      <td>217225.0</td>\n",
       "      <td>133868.0</td>\n",
       "      <td>305449446</td>\n",
       "    </tr>\n",
       "    <tr>\n",
       "      <td>13</td>\n",
       "      <td>4098</td>\n",
       "      <td>46930</td>\n",
       "      <td>53016.0</td>\n",
       "      <td>27019.0</td>\n",
       "      <td>71919481</td>\n",
       "    </tr>\n",
       "    <tr>\n",
       "      <td>14</td>\n",
       "      <td>11247</td>\n",
       "      <td>144235</td>\n",
       "      <td>189332.0</td>\n",
       "      <td>107053.0</td>\n",
       "      <td>259454692</td>\n",
       "    </tr>\n",
       "    <tr>\n",
       "      <td>15</td>\n",
       "      <td>5515</td>\n",
       "      <td>64217</td>\n",
       "      <td>83070.0</td>\n",
       "      <td>50851.0</td>\n",
       "      <td>118960211</td>\n",
       "    </tr>\n",
       "    <tr>\n",
       "      <td>16</td>\n",
       "      <td>12003</td>\n",
       "      <td>140035</td>\n",
       "      <td>173079.0</td>\n",
       "      <td>94139.0</td>\n",
       "      <td>238346955</td>\n",
       "    </tr>\n",
       "    <tr>\n",
       "      <td>17</td>\n",
       "      <td>17311</td>\n",
       "      <td>202462</td>\n",
       "      <td>278263.0</td>\n",
       "      <td>180304.0</td>\n",
       "      <td>393281453</td>\n",
       "    </tr>\n",
       "    <tr>\n",
       "      <td>18</td>\n",
       "      <td>3007</td>\n",
       "      <td>37088</td>\n",
       "      <td>43285.0</td>\n",
       "      <td>25159.0</td>\n",
       "      <td>60721461</td>\n",
       "    </tr>\n",
       "    <tr>\n",
       "      <td>19</td>\n",
       "      <td>1535</td>\n",
       "      <td>46682</td>\n",
       "      <td>56983.0</td>\n",
       "      <td>30559.0</td>\n",
       "      <td>73700617</td>\n",
       "    </tr>\n",
       "    <tr>\n",
       "      <td>20</td>\n",
       "      <td>16400</td>\n",
       "      <td>190307</td>\n",
       "      <td>219662.0</td>\n",
       "      <td>116538.0</td>\n",
       "      <td>296570442</td>\n",
       "    </tr>\n",
       "  </tbody>\n",
       "</table>\n",
       "</div>"
      ],
      "text/plain": [
       "            Marital_Status  Product_Category_1  Product_Category_2  \\\n",
       "Occupation                                                           \n",
       "0                    29149              378374            464793.0   \n",
       "1                    22702              269249            319095.0   \n",
       "2                    12282              150096            176408.0   \n",
       "3                     7286               98740            119452.0   \n",
       "4                    19532              375044            478959.0   \n",
       "5                     4569               62643             80713.0   \n",
       "6                     9165              114201            135849.0   \n",
       "7                    25730              320171            402950.0   \n",
       "8                      855                7237             10315.0   \n",
       "9                     3253               34513             43595.0   \n",
       "10                     753               64308             82153.0   \n",
       "11                    4446               64812             76751.0   \n",
       "12                   14499              161372            217225.0   \n",
       "13                    4098               46930             53016.0   \n",
       "14                   11247              144235            189332.0   \n",
       "15                    5515               64217             83070.0   \n",
       "16                   12003              140035            173079.0   \n",
       "17                   17311              202462            278263.0   \n",
       "18                    3007               37088             43285.0   \n",
       "19                    1535               46682             56983.0   \n",
       "20                   16400              190307            219662.0   \n",
       "\n",
       "            Product_Category_3   Purchase  \n",
       "Occupation                                 \n",
       "0                     263929.0  635406958  \n",
       "1                     172085.0  424614144  \n",
       "2                      95243.0  238028583  \n",
       "3                      63335.0  162002168  \n",
       "4                     279431.0  666244484  \n",
       "5                      48775.0  113649759  \n",
       "6                      73840.0  188416784  \n",
       "7                     228545.0  557371587  \n",
       "8                       6756.0   14737388  \n",
       "9                      22767.0   54340046  \n",
       "10                     51357.0  115844465  \n",
       "11                     41776.0  106751618  \n",
       "12                    133868.0  305449446  \n",
       "13                     27019.0   71919481  \n",
       "14                    107053.0  259454692  \n",
       "15                     50851.0  118960211  \n",
       "16                     94139.0  238346955  \n",
       "17                    180304.0  393281453  \n",
       "18                     25159.0   60721461  \n",
       "19                     30559.0   73700617  \n",
       "20                    116538.0  296570442  "
      ]
     },
     "execution_count": 30,
     "metadata": {},
     "output_type": "execute_result"
    }
   ],
   "source": [
    "df.groupby(by=['Occupation']).sum()"
   ]
  },
  {
   "cell_type": "code",
   "execution_count": 31,
   "metadata": {},
   "outputs": [
    {
     "data": {
      "text/html": [
       "<div>\n",
       "<style scoped>\n",
       "    .dataframe tbody tr th:only-of-type {\n",
       "        vertical-align: middle;\n",
       "    }\n",
       "\n",
       "    .dataframe tbody tr th {\n",
       "        vertical-align: top;\n",
       "    }\n",
       "\n",
       "    .dataframe thead th {\n",
       "        text-align: right;\n",
       "    }\n",
       "</style>\n",
       "<table border=\"1\" class=\"dataframe\">\n",
       "  <thead>\n",
       "    <tr style=\"text-align: right;\">\n",
       "      <th></th>\n",
       "      <th>Purchase</th>\n",
       "    </tr>\n",
       "    <tr>\n",
       "      <th>Age</th>\n",
       "      <th></th>\n",
       "    </tr>\n",
       "  </thead>\n",
       "  <tbody>\n",
       "    <tr>\n",
       "      <td>0-17</td>\n",
       "      <td>134913183</td>\n",
       "    </tr>\n",
       "    <tr>\n",
       "      <td>18-25</td>\n",
       "      <td>913848675</td>\n",
       "    </tr>\n",
       "    <tr>\n",
       "      <td>26-35</td>\n",
       "      <td>2031770578</td>\n",
       "    </tr>\n",
       "    <tr>\n",
       "      <td>36-45</td>\n",
       "      <td>1026569884</td>\n",
       "    </tr>\n",
       "    <tr>\n",
       "      <td>46-50</td>\n",
       "      <td>420843403</td>\n",
       "    </tr>\n",
       "    <tr>\n",
       "      <td>51-55</td>\n",
       "      <td>367099644</td>\n",
       "    </tr>\n",
       "    <tr>\n",
       "      <td>55+</td>\n",
       "      <td>200767375</td>\n",
       "    </tr>\n",
       "  </tbody>\n",
       "</table>\n",
       "</div>"
      ],
      "text/plain": [
       "         Purchase\n",
       "Age              \n",
       "0-17    134913183\n",
       "18-25   913848675\n",
       "26-35  2031770578\n",
       "36-45  1026569884\n",
       "46-50   420843403\n",
       "51-55   367099644\n",
       "55+     200767375"
      ]
     },
     "execution_count": 31,
     "metadata": {},
     "output_type": "execute_result"
    }
   ],
   "source": [
    "df[['Age', 'Purchase']].groupby(by='Age').sum()"
   ]
  },
  {
   "cell_type": "code",
   "execution_count": 32,
   "metadata": {},
   "outputs": [
    {
     "data": {
      "image/png": "[encoded data removed]",
      "text/plain": [
       "<Figure size 432x288 with 1 Axes>"
      ]
     },
     "metadata": {},
     "output_type": "display_data"
    }
   ],
   "source": [
    "# purchase by age group\n",
    "agePurchaseGraph = df[['Age', 'Purchase']].groupby(by='Age').sum()\n",
    "agePurchaseGraph.plot.bar(color= 'r')\n",
    "plt.xlabel = ('Age group')\n",
    "plt.ylabel = ('Purchase')"
   ]
  },
  {
   "cell_type": "code",
   "execution_count": 33,
   "metadata": {},
   "outputs": [
    {
     "data": {
      "image/png": "[encoded data removed]",
      "text/plain": [
       "<Figure size 432x288 with 1 Axes>"
      ]
     },
     "metadata": {},
     "output_type": "display_data"
    }
   ],
   "source": [
    "# occupation vs purchase\n",
    "occupationPurchaseGraph = df[['Occupation', 'Purchase']].groupby(by='Occupation').sum()\n",
    "occupationPurchaseGraph.plot.bar(color = 'b')\n",
    "plt.xlable  = ('Occupation')\n",
    "plt.ylabel = ('Purchase')"
   ]
  },
  {
   "cell_type": "code",
   "execution_count": 34,
   "metadata": {},
   "outputs": [
    {
     "data": {
      "text/plain": [
       "Index(['Product_ID', 'Gender', 'Age', 'Occupation', 'City_Category',\n",
       "       'Stay_In_Current_City_Years', 'Marital_Status', 'Product_Category_1',\n",
       "       'Product_Category_2', 'Product_Category_3', 'Purchase'],\n",
       "      dtype='object')"
      ]
     },
     "execution_count": 34,
     "metadata": {},
     "output_type": "execute_result"
    }
   ],
   "source": [
    "df.columns"
   ]
  },
  {
   "cell_type": "code",
   "execution_count": 35,
   "metadata": {},
   "outputs": [
    {
     "data": {
      "text/html": [
       "<div>\n",
       "<style scoped>\n",
       "    .dataframe tbody tr th:only-of-type {\n",
       "        vertical-align: middle;\n",
       "    }\n",
       "\n",
       "    .dataframe tbody tr th {\n",
       "        vertical-align: top;\n",
       "    }\n",
       "\n",
       "    .dataframe thead th {\n",
       "        text-align: right;\n",
       "    }\n",
       "</style>\n",
       "<table border=\"1\" class=\"dataframe\">\n",
       "  <thead>\n",
       "    <tr style=\"text-align: right;\">\n",
       "      <th></th>\n",
       "      <th>Purchase</th>\n",
       "    </tr>\n",
       "    <tr>\n",
       "      <th>City_Category</th>\n",
       "      <th></th>\n",
       "    </tr>\n",
       "  </thead>\n",
       "  <tbody>\n",
       "    <tr>\n",
       "      <td>A</td>\n",
       "      <td>1316471661</td>\n",
       "    </tr>\n",
       "    <tr>\n",
       "      <td>B</td>\n",
       "      <td>2115533605</td>\n",
       "    </tr>\n",
       "    <tr>\n",
       "      <td>C</td>\n",
       "      <td>1663807476</td>\n",
       "    </tr>\n",
       "  </tbody>\n",
       "</table>\n",
       "</div>"
      ],
      "text/plain": [
       "                 Purchase\n",
       "City_Category            \n",
       "A              1316471661\n",
       "B              2115533605\n",
       "C              1663807476"
      ]
     },
     "execution_count": 35,
     "metadata": {},
     "output_type": "execute_result"
    }
   ],
   "source": [
    "# purchase by city\n",
    "df[['City_Category', 'Purchase']].groupby(by='City_Category').sum()"
   ]
  },
  {
   "cell_type": "code",
   "execution_count": 36,
   "metadata": {},
   "outputs": [],
   "source": [
    "# Changing name of the columns\n",
    "df.columns = ['Product_ID', 'Gender', 'Age', 'Occupation', 'CityCategory',\n",
    "       'StayInYears', 'MaritalStatus', 'ProductCategory_1',\n",
    "       'ProductCategory_2', 'ProductCategory_3', 'Purchase']"
   ]
  },
  {
   "cell_type": "code",
   "execution_count": 37,
   "metadata": {},
   "outputs": [
    {
     "data": {
      "text/plain": [
       "Index(['Product_ID', 'Gender', 'Age', 'Occupation', 'CityCategory',\n",
       "       'StayInYears', 'MaritalStatus', 'ProductCategory_1',\n",
       "       'ProductCategory_2', 'ProductCategory_3', 'Purchase'],\n",
       "      dtype='object')"
      ]
     },
     "execution_count": 37,
     "metadata": {},
     "output_type": "execute_result"
    }
   ],
   "source": [
    "df.columns"
   ]
  },
  {
   "cell_type": "code",
   "execution_count": 38,
   "metadata": {},
   "outputs": [],
   "source": [
    "# Convert categorical data into integer using map function (e.g 'Gender' column)\n",
    "dict_map = {'F': 0,'M': 1}\n",
    "updateGender = df['Gender'].map(dict_map)\n",
    "df['Gender'] = updateGender\n"
   ]
  },
  {
   "cell_type": "code",
   "execution_count": 39,
   "metadata": {},
   "outputs": [
    {
     "data": {
      "text/plain": [
       "1    414259\n",
       "0    135809\n",
       "Name: Gender, dtype: int64"
      ]
     },
     "execution_count": 39,
     "metadata": {},
     "output_type": "execute_result"
    }
   ],
   "source": [
    "df.Gender.value_counts()"
   ]
  },
  {
   "cell_type": "code",
   "execution_count": 40,
   "metadata": {},
   "outputs": [
    {
     "data": {
      "image/png": "[encoded data removed]",
      "text/plain": [
       "<Figure size 432x288 with 1 Axes>"
      ]
     },
     "metadata": {},
     "output_type": "display_data"
    }
   ],
   "source": [
    "occupationPurchaseGraph = df[['Occupation', 'Purchase']].groupby(by='Occupation').sum()\n",
    "occupationPurchaseGraph.plot.bar(color = 'b')\n",
    "plt.xlable  = ('Occupation')\n",
    "plt.ylabel = ('Purchase')"
   ]
  },
  {
   "cell_type": "code",
   "execution_count": 41,
   "metadata": {},
   "outputs": [
    {
     "data": {
      "image/png": "[encoded data removed]",
      "text/plain": [
       "<Figure size 432x288 with 1 Axes>"
      ]
     },
     "metadata": {},
     "output_type": "display_data"
    }
   ],
   "source": [
    "genderPurchaseGraph = df[['Gender', 'Purchase']].groupby(by='Gender').sum()\n",
    "genderPurchaseGraph.plot.bar(color='r')\n",
    "plt.xlable  = ('Gender')\n",
    "plt.ylabel = ('Purchase')"
   ]
  },
  {
   "cell_type": "code",
   "execution_count": null,
   "metadata": {},
   "outputs": [],
   "source": []
  },
  {
   "cell_type": "code",
   "execution_count": 42,
   "metadata": {},
   "outputs": [
    {
     "data": {
      "text/plain": [
       "1    414259\n",
       "0    135809\n",
       "Name: Gender, dtype: int64"
      ]
     },
     "execution_count": 42,
     "metadata": {},
     "output_type": "execute_result"
    }
   ],
   "source": [
    "df.Gender.value_counts()"
   ]
  },
  {
   "cell_type": "code",
   "execution_count": 43,
   "metadata": {},
   "outputs": [
    {
     "data": {
      "text/plain": [
       "B    231173\n",
       "C    171175\n",
       "A    147720\n",
       "Name: CityCategory, dtype: int64"
      ]
     },
     "execution_count": 43,
     "metadata": {},
     "output_type": "execute_result"
    }
   ],
   "source": [
    "df.CityCategory.value_counts()"
   ]
  },
  {
   "cell_type": "code",
   "execution_count": 44,
   "metadata": {},
   "outputs": [
    {
     "data": {
      "image/png": "[encoded data removed]",
      "text/plain": [
       "<Figure size 432x288 with 1 Axes>"
      ]
     },
     "metadata": {},
     "output_type": "display_data"
    }
   ],
   "source": [
    "plt.style.use(\"fivethirtyeight\")\n",
    "slice=[len('A'),len('B'), len('C')]\n",
    "label=['City A', 'City B', \"City C\"]\n",
    "colors=[\"blue\", \"red\", \"yellow\"]\n",
    "plt.pie(slice, labels=label, colors=colors, wedgeprops={'edgecolor':'black'})\n",
    "\n",
    "plt.title(\"Pie chart\")\n",
    "plt.show()"
   ]
  },
  {
   "cell_type": "code",
   "execution_count": 45,
   "metadata": {},
   "outputs": [
    {
     "name": "stdout",
     "output_type": "stream",
     "text": [
      "Missing values columns are :  Index(['ProductCategory_2', 'ProductCategory_3'], dtype='object')\n",
      "Column Name   Missing value\n"
     ]
    },
    {
     "data": {
      "text/plain": [
       "ProductCategory_2    173638\n",
       "ProductCategory_3    383247\n",
       "dtype: int64"
      ]
     },
     "execution_count": 45,
     "metadata": {},
     "output_type": "execute_result"
    }
   ],
   "source": [
    "# To get only name of the columns having null/Missing values with its count\n",
    "\n",
    "null_columns=df.columns[df.isnull().any()]\n",
    "print(\"Missing values columns are : \", null_columns)\n",
    "\n",
    "# To get the count of null/Missing values\n",
    "print(\"Column Name   Missing value\")\n",
    "df[null_columns].isnull().sum()"
   ]
  },
  {
   "cell_type": "code",
   "execution_count": 46,
   "metadata": {},
   "outputs": [
    {
     "data": {
      "text/plain": [
       "Product_ID            object\n",
       "Gender                 int64\n",
       "Age                   object\n",
       "Occupation             int64\n",
       "CityCategory          object\n",
       "StayInYears           object\n",
       "MaritalStatus          int64\n",
       "ProductCategory_1      int64\n",
       "ProductCategory_2    float64\n",
       "ProductCategory_3    float64\n",
       "Purchase               int64\n",
       "dtype: object"
      ]
     },
     "execution_count": 46,
     "metadata": {},
     "output_type": "execute_result"
    }
   ],
   "source": [
    "df.dtypes"
   ]
  },
  {
   "cell_type": "code",
   "execution_count": 47,
   "metadata": {},
   "outputs": [
    {
     "data": {
      "text/plain": [
       "0     NaN\n",
       "1     6.0\n",
       "2     NaN\n",
       "3    14.0\n",
       "4     NaN\n",
       "Name: ProductCategory_2, dtype: float64"
      ]
     },
     "execution_count": 47,
     "metadata": {},
     "output_type": "execute_result"
    }
   ],
   "source": [
    "df.ProductCategory_2.head()"
   ]
  },
  {
   "cell_type": "code",
   "execution_count": 48,
   "metadata": {},
   "outputs": [
    {
     "data": {
      "text/plain": [
       "Product_ID           False\n",
       "Gender               False\n",
       "Age                  False\n",
       "Occupation           False\n",
       "CityCategory         False\n",
       "StayInYears          False\n",
       "MaritalStatus        False\n",
       "ProductCategory_1    False\n",
       "ProductCategory_2     True\n",
       "ProductCategory_3     True\n",
       "Purchase             False\n",
       "dtype: bool"
      ]
     },
     "execution_count": 48,
     "metadata": {},
     "output_type": "execute_result"
    }
   ],
   "source": [
    "# returns column names having at least one missing value\n",
    "df.isna().any()"
   ]
  },
  {
   "cell_type": "code",
   "execution_count": 49,
   "metadata": {},
   "outputs": [
    {
     "data": {
      "text/plain": [
       "Product_ID                0\n",
       "Gender                    0\n",
       "Age                       0\n",
       "Occupation                0\n",
       "CityCategory              0\n",
       "StayInYears               0\n",
       "MaritalStatus             0\n",
       "ProductCategory_1         0\n",
       "ProductCategory_2    173638\n",
       "ProductCategory_3    383247\n",
       "Purchase                  0\n",
       "dtype: int64"
      ]
     },
     "execution_count": 49,
     "metadata": {},
     "output_type": "execute_result"
    }
   ],
   "source": [
    "# returns the number of missing values in each column.\n",
    "df.isna().sum()"
   ]
  },
  {
   "cell_type": "code",
   "execution_count": 50,
   "metadata": {},
   "outputs": [],
   "source": [
    "# axis = 0 - Row, axis = 1 - Column\n",
    "# df. dropna (axis=0,how=' all', inplace=True) - drop row with all missing values\n",
    "# df. dropna (axis=0, inplace=True) - drop row with any missing values\n",
    "# df. dropna (axis=0, thresh=3, inplace=True) - drop row with 3 missing values\n",
    "\n",
    "# Replace missing values with a scalar:\n",
    "# df.fillna(25) -- replace NaN values with 25\n",
    "# Replace missing value with mean , median\n",
    "# mean = df[' column a' ].mean()\n",
    "# df['column a'].fillna(mean)\n",
    "# Using method parameter, missing values can be replaced with the values before or after them. - bfill, ffill\n",
    "# df.fillna(axis=O, method=ffill)\n",
    "# if there are many consecutive missing values in a column or row, you may want to limit the number of missing values to be forward or backward filled.\n",
    "# df. fillna (axis=0, method=' ffill', limit=1)"
   ]
  },
  {
   "cell_type": "code",
   "execution_count": 51,
   "metadata": {},
   "outputs": [
    {
     "data": {
      "text/plain": [
       "Product_ID            object\n",
       "Gender                 int64\n",
       "Age                   object\n",
       "Occupation             int64\n",
       "CityCategory          object\n",
       "StayInYears           object\n",
       "MaritalStatus          int64\n",
       "ProductCategory_1      int64\n",
       "ProductCategory_2    float64\n",
       "ProductCategory_3    float64\n",
       "Purchase               int64\n",
       "dtype: object"
      ]
     },
     "execution_count": 51,
     "metadata": {},
     "output_type": "execute_result"
    }
   ],
   "source": [
    "df.dtypes"
   ]
  },
  {
   "cell_type": "code",
   "execution_count": 52,
   "metadata": {},
   "outputs": [
    {
     "data": {
      "text/plain": [
       "0     NaN\n",
       "1     6.0\n",
       "2     NaN\n",
       "3    14.0\n",
       "4     NaN\n",
       "Name: ProductCategory_2, dtype: float64"
      ]
     },
     "execution_count": 52,
     "metadata": {},
     "output_type": "execute_result"
    }
   ],
   "source": [
    "df.ProductCategory_2.head()"
   ]
  },
  {
   "cell_type": "code",
   "execution_count": 53,
   "metadata": {},
   "outputs": [
    {
     "data": {
      "text/plain": [
       "9.842329251122386"
      ]
     },
     "execution_count": 53,
     "metadata": {},
     "output_type": "execute_result"
    }
   ],
   "source": [
    "mean = df.ProductCategory_2.mean()\n",
    "mean"
   ]
  },
  {
   "cell_type": "code",
   "execution_count": 54,
   "metadata": {},
   "outputs": [
    {
     "data": {
      "text/plain": [
       "2"
      ]
     },
     "execution_count": 54,
     "metadata": {},
     "output_type": "execute_result"
    }
   ],
   "source": [
    "df.isna().any().sum()"
   ]
  },
  {
   "cell_type": "code",
   "execution_count": 55,
   "metadata": {},
   "outputs": [
    {
     "data": {
      "text/plain": [
       "9.0"
      ]
     },
     "execution_count": 55,
     "metadata": {},
     "output_type": "execute_result"
    }
   ],
   "source": [
    "median = df.ProductCategory_2.median()\n",
    "median"
   ]
  },
  {
   "cell_type": "code",
   "execution_count": 56,
   "metadata": {},
   "outputs": [],
   "source": [
    "mean = df['ProductCategory_2'].mean()\n",
    "df['ProductCategory_2'] = df['ProductCategory_2'].fillna(mean)\n"
   ]
  },
  {
   "cell_type": "code",
   "execution_count": 57,
   "metadata": {},
   "outputs": [
    {
     "data": {
      "text/plain": [
       "<bound method NDFrame.head of        Product_ID  Gender    Age  Occupation CityCategory StayInYears  \\\n",
       "0       P00069042       0   0-17          10            A           2   \n",
       "1       P00248942       0   0-17          10            A           2   \n",
       "2       P00087842       0   0-17          10            A           2   \n",
       "3       P00085442       0   0-17          10            A           2   \n",
       "4       P00285442       1    55+          16            C          4+   \n",
       "...           ...     ...    ...         ...          ...         ...   \n",
       "550063  P00372445       1  51-55          13            B           1   \n",
       "550064  P00375436       0  26-35           1            C           3   \n",
       "550065  P00375436       0  26-35          15            B          4+   \n",
       "550066  P00375436       0    55+           1            C           2   \n",
       "550067  P00371644       0  46-50           0            B          4+   \n",
       "\n",
       "        MaritalStatus  ProductCategory_1  ProductCategory_2  \\\n",
       "0                   0                  3           9.842329   \n",
       "1                   0                  1           6.000000   \n",
       "2                   0                 12           9.842329   \n",
       "3                   0                 12          14.000000   \n",
       "4                   0                  8           9.842329   \n",
       "...               ...                ...                ...   \n",
       "550063              1                 20           9.842329   \n",
       "550064              0                 20           9.842329   \n",
       "550065              1                 20           9.842329   \n",
       "550066              0                 20           9.842329   \n",
       "550067              1                 20           9.842329   \n",
       "\n",
       "        ProductCategory_3  Purchase  \n",
       "0                     NaN      8370  \n",
       "1                    14.0     15200  \n",
       "2                     NaN      1422  \n",
       "3                     NaN      1057  \n",
       "4                     NaN      7969  \n",
       "...                   ...       ...  \n",
       "550063                NaN       368  \n",
       "550064                NaN       371  \n",
       "550065                NaN       137  \n",
       "550066                NaN       365  \n",
       "550067                NaN       490  \n",
       "\n",
       "[550068 rows x 11 columns]>"
      ]
     },
     "execution_count": 57,
     "metadata": {},
     "output_type": "execute_result"
    }
   ],
   "source": [
    "df.head"
   ]
  },
  {
   "cell_type": "code",
   "execution_count": 58,
   "metadata": {},
   "outputs": [
    {
     "data": {
      "text/plain": [
       "1"
      ]
     },
     "execution_count": 58,
     "metadata": {},
     "output_type": "execute_result"
    }
   ],
   "source": [
    "df.isna().any().sum()"
   ]
  },
  {
   "cell_type": "code",
   "execution_count": 59,
   "metadata": {},
   "outputs": [
    {
     "data": {
      "text/plain": [
       "0     NaN\n",
       "1    14.0\n",
       "2     NaN\n",
       "3     NaN\n",
       "4     NaN\n",
       "Name: ProductCategory_3, dtype: float64"
      ]
     },
     "execution_count": 59,
     "metadata": {},
     "output_type": "execute_result"
    }
   ],
   "source": [
    "df['ProductCategory_3'].head()"
   ]
  },
  {
   "cell_type": "code",
   "execution_count": 60,
   "metadata": {},
   "outputs": [],
   "source": [
    "mean= df['ProductCategory_3'].mean()\n",
    "mean\n",
    "df['ProductCategory_3'] = df['ProductCategory_3'].fillna(mean)"
   ]
  },
  {
   "cell_type": "code",
   "execution_count": 61,
   "metadata": {},
   "outputs": [
    {
     "data": {
      "text/plain": [
       "0"
      ]
     },
     "execution_count": 61,
     "metadata": {},
     "output_type": "execute_result"
    }
   ],
   "source": [
    "df.isna().any().sum()"
   ]
  },
  {
   "cell_type": "code",
   "execution_count": 62,
   "metadata": {},
   "outputs": [
    {
     "data": {
      "text/plain": [
       "9.842329     173638\n",
       "8.000000      64088\n",
       "14.000000     55108\n",
       "2.000000      49217\n",
       "16.000000     43255\n",
       "15.000000     37855\n",
       "5.000000      26235\n",
       "4.000000      25677\n",
       "6.000000      16466\n",
       "11.000000     14134\n",
       "17.000000     13320\n",
       "13.000000     10531\n",
       "9.000000       5693\n",
       "12.000000      5528\n",
       "10.000000      3043\n",
       "3.000000       2884\n",
       "18.000000      2770\n",
       "7.000000        626\n",
       "Name: ProductCategory_2, dtype: int64"
      ]
     },
     "execution_count": 62,
     "metadata": {},
     "output_type": "execute_result"
    }
   ],
   "source": [
    "df.ProductCategory_2.value_counts()"
   ]
  },
  {
   "cell_type": "code",
   "execution_count": 63,
   "metadata": {},
   "outputs": [
    {
     "data": {
      "text/plain": [
       "12.668243    383247\n",
       "16.000000     32636\n",
       "15.000000     28013\n",
       "14.000000     18428\n",
       "17.000000     16702\n",
       "5.000000      16658\n",
       "8.000000      12562\n",
       "9.000000      11579\n",
       "12.000000      9246\n",
       "13.000000      5459\n",
       "6.000000       4890\n",
       "18.000000      4629\n",
       "4.000000       1875\n",
       "11.000000      1805\n",
       "10.000000      1726\n",
       "3.000000        613\n",
       "Name: ProductCategory_3, dtype: int64"
      ]
     },
     "execution_count": 63,
     "metadata": {},
     "output_type": "execute_result"
    }
   ],
   "source": [
    "df.ProductCategory_3.value_counts()"
   ]
  },
  {
   "cell_type": "code",
   "execution_count": 64,
   "metadata": {},
   "outputs": [
    {
     "data": {
      "text/plain": [
       "<matplotlib.axes._subplots.AxesSubplot at 0x7f7b3b22a650>"
      ]
     },
     "execution_count": 64,
     "metadata": {},
     "output_type": "execute_result"
    },
    {
     "data": {
      "image/png": "[encoded data removed]",
      "text/plain": [
       "<Figure size 432x288 with 1 Axes>"
      ]
     },
     "metadata": {},
     "output_type": "display_data"
    }
   ],
   "source": [
    "df['Purchase'].plot(kind='hist')"
   ]
  },
  {
   "cell_type": "code",
   "execution_count": 65,
   "metadata": {},
   "outputs": [
    {
     "data": {
      "text/plain": [
       "Gender\n",
       "0    AxesSubplot(0.08,0.07;0.87x0.81)\n",
       "1    AxesSubplot(0.08,0.07;0.87x0.81)\n",
       "Name: Purchase, dtype: object"
      ]
     },
     "execution_count": 65,
     "metadata": {},
     "output_type": "execute_result"
    },
    {
     "data": {
      "image/png": "[encoded data removed]",
      "text/plain": [
       "<Figure size 432x288 with 1 Axes>"
      ]
     },
     "metadata": {},
     "output_type": "display_data"
    }
   ],
   "source": [
    "df.groupby('Gender')['Purchase'].plot(kind='kde')"
   ]
  },
  {
   "cell_type": "code",
   "execution_count": null,
   "metadata": {},
   "outputs": [],
   "source": []
  }
 ],
 "metadata": {
  "kernelspec": {
   "display_name": "Python 3",
   "language": "python",
   "name": "python3"
  },
  "language_info": {
   "codemirror_mode": {
    "name": "ipython",
    "version": 3
   },
   "file_extension": ".py",
   "mimetype": "text/x-python",
   "name": "python",
   "nbconvert_exporter": "python",
   "pygments_lexer": "ipython3",
   "version": "3.7.4"
  }
 },
 "nbformat": 4,
 "nbformat_minor": 2
}
